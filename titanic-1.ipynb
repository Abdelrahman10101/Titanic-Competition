{
 "cells": [
  {
   "cell_type": "code",
   "execution_count": 1,
   "id": "ef572b80",
   "metadata": {
    "_cell_guid": "b1076dfc-b9ad-4769-8c92-a6c4dae69d19",
    "_uuid": "8f2839f25d086af736a60e9eeb907d3b93b6e0e5",
    "execution": {
     "iopub.execute_input": "2024-08-25T13:48:24.060429Z",
     "iopub.status.busy": "2024-08-25T13:48:24.059964Z",
     "iopub.status.idle": "2024-08-25T13:48:25.077886Z",
     "shell.execute_reply": "2024-08-25T13:48:25.076443Z"
    },
    "papermill": {
     "duration": 1.051826,
     "end_time": "2024-08-25T13:48:25.080623",
     "exception": false,
     "start_time": "2024-08-25T13:48:24.028797",
     "status": "completed"
    },
    "tags": []
   },
   "outputs": [
    {
     "name": "stdout",
     "output_type": "stream",
     "text": [
      "/kaggle/input/titanic/train.csv\n",
      "/kaggle/input/titanic/test.csv\n",
      "/kaggle/input/titanic/gender_submission.csv\n"
     ]
    }
   ],
   "source": [
    "# This Python 3 environment comes with many helpful analytics libraries installed\n",
    "# It is defined by the kaggle/python Docker image: https://github.com/kaggle/docker-python\n",
    "# For example, here's several helpful packages to load\n",
    "\n",
    "import numpy as np # linear algebra\n",
    "import pandas as pd # data processing, CSV file I/O (e.g. pd.read_csv)\n",
    "\n",
    "# Input data files are available in the read-only \"../input/\" directory\n",
    "# For example, running this (by clicking run or pressing Shift+Enter) will list all files under the input directory\n",
    "\n",
    "import os\n",
    "for dirname, _, filenames in os.walk('/kaggle/input'):\n",
    "    for filename in filenames:\n",
    "        print(os.path.join(dirname, filename))\n",
    "\n",
    "# You can write up to 20GB to the current directory (/kaggle/working/) that gets preserved as output when you create a version using \"Save & Run All\" \n",
    "# You can also write temporary files to /kaggle/temp/, but they won't be saved outside of the current session"
   ]
  },
  {
   "cell_type": "code",
   "execution_count": 2,
   "id": "1c7d5d88",
   "metadata": {
    "execution": {
     "iopub.execute_input": "2024-08-25T13:48:25.141761Z",
     "iopub.status.busy": "2024-08-25T13:48:25.141212Z",
     "iopub.status.idle": "2024-08-25T13:48:26.677727Z",
     "shell.execute_reply": "2024-08-25T13:48:26.676454Z"
    },
    "papermill": {
     "duration": 1.570853,
     "end_time": "2024-08-25T13:48:26.680712",
     "exception": false,
     "start_time": "2024-08-25T13:48:25.109859",
     "status": "completed"
    },
    "tags": []
   },
   "outputs": [],
   "source": [
    "import seaborn as sns\n",
    "import matplotlib.pyplot as plt"
   ]
  },
  {
   "cell_type": "markdown",
   "id": "28644556",
   "metadata": {
    "papermill": {
     "duration": 0.029484,
     "end_time": "2024-08-25T13:48:26.740197",
     "exception": false,
     "start_time": "2024-08-25T13:48:26.710713",
     "status": "completed"
    },
    "tags": []
   },
   "source": [
    "# Data Exploration"
   ]
  },
  {
   "cell_type": "code",
   "execution_count": 3,
   "id": "3f9e6b88",
   "metadata": {
    "execution": {
     "iopub.execute_input": "2024-08-25T13:48:26.800340Z",
     "iopub.status.busy": "2024-08-25T13:48:26.799876Z",
     "iopub.status.idle": "2024-08-25T13:48:26.857792Z",
     "shell.execute_reply": "2024-08-25T13:48:26.856592Z"
    },
    "papermill": {
     "duration": 0.091482,
     "end_time": "2024-08-25T13:48:26.860570",
     "exception": false,
     "start_time": "2024-08-25T13:48:26.769088",
     "status": "completed"
    },
    "tags": []
   },
   "outputs": [
    {
     "data": {
      "text/html": [
       "<div>\n",
       "<style scoped>\n",
       "    .dataframe tbody tr th:only-of-type {\n",
       "        vertical-align: middle;\n",
       "    }\n",
       "\n",
       "    .dataframe tbody tr th {\n",
       "        vertical-align: top;\n",
       "    }\n",
       "\n",
       "    .dataframe thead th {\n",
       "        text-align: right;\n",
       "    }\n",
       "</style>\n",
       "<table border=\"1\" class=\"dataframe\">\n",
       "  <thead>\n",
       "    <tr style=\"text-align: right;\">\n",
       "      <th></th>\n",
       "      <th>PassengerId</th>\n",
       "      <th>Survived</th>\n",
       "      <th>Pclass</th>\n",
       "      <th>Name</th>\n",
       "      <th>Sex</th>\n",
       "      <th>Age</th>\n",
       "      <th>SibSp</th>\n",
       "      <th>Parch</th>\n",
       "      <th>Ticket</th>\n",
       "      <th>Fare</th>\n",
       "      <th>Cabin</th>\n",
       "      <th>Embarked</th>\n",
       "    </tr>\n",
       "  </thead>\n",
       "  <tbody>\n",
       "    <tr>\n",
       "      <th>0</th>\n",
       "      <td>1</td>\n",
       "      <td>0</td>\n",
       "      <td>3</td>\n",
       "      <td>Braund, Mr. Owen Harris</td>\n",
       "      <td>male</td>\n",
       "      <td>22.0</td>\n",
       "      <td>1</td>\n",
       "      <td>0</td>\n",
       "      <td>A/5 21171</td>\n",
       "      <td>7.2500</td>\n",
       "      <td>NaN</td>\n",
       "      <td>S</td>\n",
       "    </tr>\n",
       "    <tr>\n",
       "      <th>1</th>\n",
       "      <td>2</td>\n",
       "      <td>1</td>\n",
       "      <td>1</td>\n",
       "      <td>Cumings, Mrs. John Bradley (Florence Briggs Th...</td>\n",
       "      <td>female</td>\n",
       "      <td>38.0</td>\n",
       "      <td>1</td>\n",
       "      <td>0</td>\n",
       "      <td>PC 17599</td>\n",
       "      <td>71.2833</td>\n",
       "      <td>C85</td>\n",
       "      <td>C</td>\n",
       "    </tr>\n",
       "    <tr>\n",
       "      <th>2</th>\n",
       "      <td>3</td>\n",
       "      <td>1</td>\n",
       "      <td>3</td>\n",
       "      <td>Heikkinen, Miss. Laina</td>\n",
       "      <td>female</td>\n",
       "      <td>26.0</td>\n",
       "      <td>0</td>\n",
       "      <td>0</td>\n",
       "      <td>STON/O2. 3101282</td>\n",
       "      <td>7.9250</td>\n",
       "      <td>NaN</td>\n",
       "      <td>S</td>\n",
       "    </tr>\n",
       "    <tr>\n",
       "      <th>3</th>\n",
       "      <td>4</td>\n",
       "      <td>1</td>\n",
       "      <td>1</td>\n",
       "      <td>Futrelle, Mrs. Jacques Heath (Lily May Peel)</td>\n",
       "      <td>female</td>\n",
       "      <td>35.0</td>\n",
       "      <td>1</td>\n",
       "      <td>0</td>\n",
       "      <td>113803</td>\n",
       "      <td>53.1000</td>\n",
       "      <td>C123</td>\n",
       "      <td>S</td>\n",
       "    </tr>\n",
       "    <tr>\n",
       "      <th>4</th>\n",
       "      <td>5</td>\n",
       "      <td>0</td>\n",
       "      <td>3</td>\n",
       "      <td>Allen, Mr. William Henry</td>\n",
       "      <td>male</td>\n",
       "      <td>35.0</td>\n",
       "      <td>0</td>\n",
       "      <td>0</td>\n",
       "      <td>373450</td>\n",
       "      <td>8.0500</td>\n",
       "      <td>NaN</td>\n",
       "      <td>S</td>\n",
       "    </tr>\n",
       "  </tbody>\n",
       "</table>\n",
       "</div>"
      ],
      "text/plain": [
       "   PassengerId  Survived  Pclass  \\\n",
       "0            1         0       3   \n",
       "1            2         1       1   \n",
       "2            3         1       3   \n",
       "3            4         1       1   \n",
       "4            5         0       3   \n",
       "\n",
       "                                                Name     Sex   Age  SibSp  \\\n",
       "0                            Braund, Mr. Owen Harris    male  22.0      1   \n",
       "1  Cumings, Mrs. John Bradley (Florence Briggs Th...  female  38.0      1   \n",
       "2                             Heikkinen, Miss. Laina  female  26.0      0   \n",
       "3       Futrelle, Mrs. Jacques Heath (Lily May Peel)  female  35.0      1   \n",
       "4                           Allen, Mr. William Henry    male  35.0      0   \n",
       "\n",
       "   Parch            Ticket     Fare Cabin Embarked  \n",
       "0      0         A/5 21171   7.2500   NaN        S  \n",
       "1      0          PC 17599  71.2833   C85        C  \n",
       "2      0  STON/O2. 3101282   7.9250   NaN        S  \n",
       "3      0            113803  53.1000  C123        S  \n",
       "4      0            373450   8.0500   NaN        S  "
      ]
     },
     "execution_count": 3,
     "metadata": {},
     "output_type": "execute_result"
    }
   ],
   "source": [
    "train=pd.read_csv('/kaggle/input/titanic/train.csv')\n",
    "train.head()"
   ]
  },
  {
   "cell_type": "code",
   "execution_count": 4,
   "id": "e48c29cf",
   "metadata": {
    "execution": {
     "iopub.execute_input": "2024-08-25T13:48:26.924850Z",
     "iopub.status.busy": "2024-08-25T13:48:26.924270Z",
     "iopub.status.idle": "2024-08-25T13:48:26.946268Z",
     "shell.execute_reply": "2024-08-25T13:48:26.945257Z"
    },
    "papermill": {
     "duration": 0.057058,
     "end_time": "2024-08-25T13:48:26.948910",
     "exception": false,
     "start_time": "2024-08-25T13:48:26.891852",
     "status": "completed"
    },
    "tags": []
   },
   "outputs": [
    {
     "data": {
      "text/plain": [
       "0"
      ]
     },
     "execution_count": 4,
     "metadata": {},
     "output_type": "execute_result"
    }
   ],
   "source": [
    "num_duplicates = train.duplicated().sum()\n",
    "num_duplicates"
   ]
  },
  {
   "cell_type": "code",
   "execution_count": 5,
   "id": "6ff2b7f3",
   "metadata": {
    "execution": {
     "iopub.execute_input": "2024-08-25T13:48:27.073206Z",
     "iopub.status.busy": "2024-08-25T13:48:27.072767Z",
     "iopub.status.idle": "2024-08-25T13:48:27.081210Z",
     "shell.execute_reply": "2024-08-25T13:48:27.080042Z"
    },
    "papermill": {
     "duration": 0.042241,
     "end_time": "2024-08-25T13:48:27.083624",
     "exception": false,
     "start_time": "2024-08-25T13:48:27.041383",
     "status": "completed"
    },
    "tags": []
   },
   "outputs": [
    {
     "data": {
      "text/plain": [
       "0"
      ]
     },
     "execution_count": 5,
     "metadata": {},
     "output_type": "execute_result"
    }
   ],
   "source": [
    "num_duplicates_PassengerId = train['PassengerId'].duplicated().sum()\n",
    "num_duplicates_PassengerId"
   ]
  },
  {
   "cell_type": "code",
   "execution_count": 6,
   "id": "5fa2ca49",
   "metadata": {
    "execution": {
     "iopub.execute_input": "2024-08-25T13:48:27.145209Z",
     "iopub.status.busy": "2024-08-25T13:48:27.144138Z",
     "iopub.status.idle": "2024-08-25T13:48:27.152387Z",
     "shell.execute_reply": "2024-08-25T13:48:27.151315Z"
    },
    "papermill": {
     "duration": 0.042042,
     "end_time": "2024-08-25T13:48:27.154843",
     "exception": false,
     "start_time": "2024-08-25T13:48:27.112801",
     "status": "completed"
    },
    "tags": []
   },
   "outputs": [
    {
     "data": {
      "text/plain": [
       "210"
      ]
     },
     "execution_count": 6,
     "metadata": {},
     "output_type": "execute_result"
    }
   ],
   "source": [
    "num_duplicates_Ticket = train['Ticket'].duplicated().sum()\n",
    "num_duplicates_Ticket"
   ]
  },
  {
   "cell_type": "code",
   "execution_count": 7,
   "id": "b5200e7a",
   "metadata": {
    "execution": {
     "iopub.execute_input": "2024-08-25T13:48:27.215814Z",
     "iopub.status.busy": "2024-08-25T13:48:27.215394Z",
     "iopub.status.idle": "2024-08-25T13:48:27.226299Z",
     "shell.execute_reply": "2024-08-25T13:48:27.225184Z"
    },
    "papermill": {
     "duration": 0.044608,
     "end_time": "2024-08-25T13:48:27.228823",
     "exception": false,
     "start_time": "2024-08-25T13:48:27.184215",
     "status": "completed"
    },
    "tags": []
   },
   "outputs": [
    {
     "data": {
      "text/plain": [
       "PassengerId    891\n",
       "Survived       891\n",
       "Pclass         891\n",
       "Name           891\n",
       "Sex            891\n",
       "Age            714\n",
       "SibSp          891\n",
       "Parch          891\n",
       "Ticket         891\n",
       "Fare           891\n",
       "Cabin          204\n",
       "Embarked       889\n",
       "dtype: int64"
      ]
     },
     "execution_count": 7,
     "metadata": {},
     "output_type": "execute_result"
    }
   ],
   "source": [
    "num_rows=train.count()\n",
    "num_rows"
   ]
  },
  {
   "cell_type": "code",
   "execution_count": 8,
   "id": "a96a80e2",
   "metadata": {
    "execution": {
     "iopub.execute_input": "2024-08-25T13:48:27.289848Z",
     "iopub.status.busy": "2024-08-25T13:48:27.289458Z",
     "iopub.status.idle": "2024-08-25T13:48:27.299437Z",
     "shell.execute_reply": "2024-08-25T13:48:27.298084Z"
    },
    "papermill": {
     "duration": 0.043577,
     "end_time": "2024-08-25T13:48:27.302050",
     "exception": false,
     "start_time": "2024-08-25T13:48:27.258473",
     "status": "completed"
    },
    "tags": []
   },
   "outputs": [
    {
     "data": {
      "text/plain": [
       "PassengerId      0\n",
       "Survived         0\n",
       "Pclass           0\n",
       "Name             0\n",
       "Sex              0\n",
       "Age            177\n",
       "SibSp            0\n",
       "Parch            0\n",
       "Ticket           0\n",
       "Fare             0\n",
       "Cabin          687\n",
       "Embarked         2\n",
       "dtype: int64"
      ]
     },
     "execution_count": 8,
     "metadata": {},
     "output_type": "execute_result"
    }
   ],
   "source": [
    "train.isna().sum()"
   ]
  },
  {
   "cell_type": "code",
   "execution_count": 9,
   "id": "352f5e07",
   "metadata": {
    "execution": {
     "iopub.execute_input": "2024-08-25T13:48:27.372275Z",
     "iopub.status.busy": "2024-08-25T13:48:27.371629Z",
     "iopub.status.idle": "2024-08-25T13:48:27.391159Z",
     "shell.execute_reply": "2024-08-25T13:48:27.389836Z"
    },
    "papermill": {
     "duration": 0.056297,
     "end_time": "2024-08-25T13:48:27.393652",
     "exception": false,
     "start_time": "2024-08-25T13:48:27.337355",
     "status": "completed"
    },
    "tags": []
   },
   "outputs": [
    {
     "data": {
      "text/plain": [
       "(418, 11)"
      ]
     },
     "execution_count": 9,
     "metadata": {},
     "output_type": "execute_result"
    }
   ],
   "source": [
    "test=pd.read_csv(\"/kaggle/input/titanic/test.csv\")\n",
    "test.shape"
   ]
  },
  {
   "cell_type": "code",
   "execution_count": 10,
   "id": "0637996e",
   "metadata": {
    "execution": {
     "iopub.execute_input": "2024-08-25T13:48:27.456708Z",
     "iopub.status.busy": "2024-08-25T13:48:27.456321Z",
     "iopub.status.idle": "2024-08-25T13:48:27.467057Z",
     "shell.execute_reply": "2024-08-25T13:48:27.465885Z"
    },
    "papermill": {
     "duration": 0.045352,
     "end_time": "2024-08-25T13:48:27.469719",
     "exception": false,
     "start_time": "2024-08-25T13:48:27.424367",
     "status": "completed"
    },
    "tags": []
   },
   "outputs": [
    {
     "data": {
      "text/plain": [
       "PassengerId      0\n",
       "Pclass           0\n",
       "Name             0\n",
       "Sex              0\n",
       "Age             86\n",
       "SibSp            0\n",
       "Parch            0\n",
       "Ticket           0\n",
       "Fare             1\n",
       "Cabin          327\n",
       "Embarked         0\n",
       "dtype: int64"
      ]
     },
     "execution_count": 10,
     "metadata": {},
     "output_type": "execute_result"
    }
   ],
   "source": [
    "test.isna().sum()"
   ]
  },
  {
   "cell_type": "code",
   "execution_count": 11,
   "id": "b3897b25",
   "metadata": {
    "execution": {
     "iopub.execute_input": "2024-08-25T13:48:27.533529Z",
     "iopub.status.busy": "2024-08-25T13:48:27.533030Z",
     "iopub.status.idle": "2024-08-25T13:48:27.544564Z",
     "shell.execute_reply": "2024-08-25T13:48:27.543195Z"
    },
    "papermill": {
     "duration": 0.04573,
     "end_time": "2024-08-25T13:48:27.547266",
     "exception": false,
     "start_time": "2024-08-25T13:48:27.501536",
     "status": "completed"
    },
    "tags": []
   },
   "outputs": [],
   "source": [
    "test['Fare'] = test['Fare'].fillna(test['Fare'].median())"
   ]
  },
  {
   "cell_type": "code",
   "execution_count": 12,
   "id": "628f9071",
   "metadata": {
    "execution": {
     "iopub.execute_input": "2024-08-25T13:48:27.609072Z",
     "iopub.status.busy": "2024-08-25T13:48:27.608639Z",
     "iopub.status.idle": "2024-08-25T13:48:27.701129Z",
     "shell.execute_reply": "2024-08-25T13:48:27.699934Z"
    },
    "papermill": {
     "duration": 0.12649,
     "end_time": "2024-08-25T13:48:27.703763",
     "exception": false,
     "start_time": "2024-08-25T13:48:27.577273",
     "status": "completed"
    },
    "tags": []
   },
   "outputs": [
    {
     "data": {
      "text/plain": [
       "Embarked\n",
       "S    644\n",
       "C    168\n",
       "Q     77\n",
       "Name: count, dtype: int64"
      ]
     },
     "execution_count": 12,
     "metadata": {},
     "output_type": "execute_result"
    }
   ],
   "source": [
    "train['Embarked'].value_counts()"
   ]
  },
  {
   "cell_type": "markdown",
   "id": "3da90aa3",
   "metadata": {
    "papermill": {
     "duration": 0.029825,
     "end_time": "2024-08-25T13:48:27.765756",
     "exception": false,
     "start_time": "2024-08-25T13:48:27.735931",
     "status": "completed"
    },
    "tags": []
   },
   "source": [
    "Just two nulls, i will replace it with the mode"
   ]
  },
  {
   "cell_type": "code",
   "execution_count": 13,
   "id": "7f541285",
   "metadata": {
    "execution": {
     "iopub.execute_input": "2024-08-25T13:48:27.827900Z",
     "iopub.status.busy": "2024-08-25T13:48:27.827469Z",
     "iopub.status.idle": "2024-08-25T13:48:27.838461Z",
     "shell.execute_reply": "2024-08-25T13:48:27.837342Z"
    },
    "papermill": {
     "duration": 0.045587,
     "end_time": "2024-08-25T13:48:27.841438",
     "exception": false,
     "start_time": "2024-08-25T13:48:27.795851",
     "status": "completed"
    },
    "tags": []
   },
   "outputs": [
    {
     "data": {
      "text/plain": [
       "Embarked\n",
       "S    646\n",
       "C    168\n",
       "Q     77\n",
       "Name: count, dtype: int64"
      ]
     },
     "execution_count": 13,
     "metadata": {},
     "output_type": "execute_result"
    }
   ],
   "source": [
    "train['Embarked'] = train['Embarked'].fillna('S')# S is the mode\n",
    "train['Embarked'].value_counts()"
   ]
  },
  {
   "cell_type": "code",
   "execution_count": 14,
   "id": "bca7b609",
   "metadata": {
    "execution": {
     "iopub.execute_input": "2024-08-25T13:48:27.904182Z",
     "iopub.status.busy": "2024-08-25T13:48:27.903729Z",
     "iopub.status.idle": "2024-08-25T13:48:27.913116Z",
     "shell.execute_reply": "2024-08-25T13:48:27.911938Z"
    },
    "papermill": {
     "duration": 0.043677,
     "end_time": "2024-08-25T13:48:27.915856",
     "exception": false,
     "start_time": "2024-08-25T13:48:27.872179",
     "status": "completed"
    },
    "tags": []
   },
   "outputs": [
    {
     "data": {
      "text/plain": [
       "Parch\n",
       "0    678\n",
       "1    118\n",
       "2     80\n",
       "5      5\n",
       "3      5\n",
       "4      4\n",
       "6      1\n",
       "Name: count, dtype: int64"
      ]
     },
     "execution_count": 14,
     "metadata": {},
     "output_type": "execute_result"
    }
   ],
   "source": [
    "train['Parch'].value_counts()"
   ]
  },
  {
   "cell_type": "code",
   "execution_count": 15,
   "id": "a28f7c3a",
   "metadata": {
    "execution": {
     "iopub.execute_input": "2024-08-25T13:48:27.979957Z",
     "iopub.status.busy": "2024-08-25T13:48:27.979550Z",
     "iopub.status.idle": "2024-08-25T13:48:27.988434Z",
     "shell.execute_reply": "2024-08-25T13:48:27.987357Z"
    },
    "papermill": {
     "duration": 0.044241,
     "end_time": "2024-08-25T13:48:27.990995",
     "exception": false,
     "start_time": "2024-08-25T13:48:27.946754",
     "status": "completed"
    },
    "tags": []
   },
   "outputs": [
    {
     "data": {
      "text/plain": [
       "SibSp\n",
       "0    608\n",
       "1    209\n",
       "2     28\n",
       "4     18\n",
       "3     16\n",
       "8      7\n",
       "5      5\n",
       "Name: count, dtype: int64"
      ]
     },
     "execution_count": 15,
     "metadata": {},
     "output_type": "execute_result"
    }
   ],
   "source": [
    "train['SibSp'].value_counts()"
   ]
  },
  {
   "cell_type": "code",
   "execution_count": 16,
   "id": "283a3df7",
   "metadata": {
    "execution": {
     "iopub.execute_input": "2024-08-25T13:48:28.055319Z",
     "iopub.status.busy": "2024-08-25T13:48:28.054880Z",
     "iopub.status.idle": "2024-08-25T13:48:28.065234Z",
     "shell.execute_reply": "2024-08-25T13:48:28.063805Z"
    },
    "papermill": {
     "duration": 0.045783,
     "end_time": "2024-08-25T13:48:28.068005",
     "exception": false,
     "start_time": "2024-08-25T13:48:28.022222",
     "status": "completed"
    },
    "tags": []
   },
   "outputs": [
    {
     "data": {
      "text/plain": [
       "Sex\n",
       "male      577\n",
       "female    314\n",
       "Name: count, dtype: int64"
      ]
     },
     "execution_count": 16,
     "metadata": {},
     "output_type": "execute_result"
    }
   ],
   "source": [
    "train['Sex'].value_counts()"
   ]
  },
  {
   "cell_type": "code",
   "execution_count": 17,
   "id": "544b01bb",
   "metadata": {
    "execution": {
     "iopub.execute_input": "2024-08-25T13:48:28.133934Z",
     "iopub.status.busy": "2024-08-25T13:48:28.132870Z",
     "iopub.status.idle": "2024-08-25T13:48:28.437230Z",
     "shell.execute_reply": "2024-08-25T13:48:28.436045Z"
    },
    "papermill": {
     "duration": 0.34061,
     "end_time": "2024-08-25T13:48:28.439868",
     "exception": false,
     "start_time": "2024-08-25T13:48:28.099258",
     "status": "completed"
    },
    "tags": []
   },
   "outputs": [
    {
     "data": {
      "image/png": "[encoded data removed]",
      "text/plain": [
       "<Figure size 640x480 with 1 Axes>"
      ]
     },
     "metadata": {},
     "output_type": "display_data"
    }
   ],
   "source": [
    "sns.boxplot(x='Embarked', y='Age', data=train)\n",
    "plt.show()"
   ]
  },
  {
   "cell_type": "code",
   "execution_count": 18,
   "id": "7c366a13",
   "metadata": {
    "execution": {
     "iopub.execute_input": "2024-08-25T13:48:28.507611Z",
     "iopub.status.busy": "2024-08-25T13:48:28.506713Z",
     "iopub.status.idle": "2024-08-25T13:48:28.764470Z",
     "shell.execute_reply": "2024-08-25T13:48:28.763265Z"
    },
    "papermill": {
     "duration": 0.293677,
     "end_time": "2024-08-25T13:48:28.767366",
     "exception": false,
     "start_time": "2024-08-25T13:48:28.473689",
     "status": "completed"
    },
    "tags": []
   },
   "outputs": [
    {
     "data": {
      "image/png": "[encoded data removed]",
      "text/plain": [
       "<Figure size 640x480 with 1 Axes>"
      ]
     },
     "metadata": {},
     "output_type": "display_data"
    }
   ],
   "source": [
    "sns.boxplot(x='Embarked', y='Age', data=test)\n",
    "plt.show()"
   ]
  },
  {
   "cell_type": "code",
   "execution_count": 19,
   "id": "f1ac2d70",
   "metadata": {
    "execution": {
     "iopub.execute_input": "2024-08-25T13:48:28.833233Z",
     "iopub.status.busy": "2024-08-25T13:48:28.832794Z",
     "iopub.status.idle": "2024-08-25T13:48:28.842886Z",
     "shell.execute_reply": "2024-08-25T13:48:28.841481Z"
    },
    "papermill": {
     "duration": 0.045982,
     "end_time": "2024-08-25T13:48:28.845605",
     "exception": false,
     "start_time": "2024-08-25T13:48:28.799623",
     "status": "completed"
    },
    "tags": []
   },
   "outputs": [
    {
     "data": {
      "text/plain": [
       "Survived\n",
       "0    549\n",
       "1    342\n",
       "Name: count, dtype: int64"
      ]
     },
     "execution_count": 19,
     "metadata": {},
     "output_type": "execute_result"
    }
   ],
   "source": [
    "train['Survived'].value_counts()"
   ]
  },
  {
   "cell_type": "markdown",
   "id": "134122fd",
   "metadata": {
    "papermill": {
     "duration": 0.033915,
     "end_time": "2024-08-25T13:48:28.911876",
     "exception": false,
     "start_time": "2024-08-25T13:48:28.877961",
     "status": "completed"
    },
    "tags": []
   },
   "source": [
    "Data isn't balanced"
   ]
  },
  {
   "cell_type": "markdown",
   "id": "c30063c7",
   "metadata": {
    "papermill": {
     "duration": 0.033665,
     "end_time": "2024-08-25T13:48:28.978394",
     "exception": false,
     "start_time": "2024-08-25T13:48:28.944729",
     "status": "completed"
    },
    "tags": []
   },
   "source": [
    "# Data Preprocessing"
   ]
  },
  {
   "cell_type": "markdown",
   "id": "6fb1b62a",
   "metadata": {
    "papermill": {
     "duration": 0.031283,
     "end_time": "2024-08-25T13:48:29.041316",
     "exception": false,
     "start_time": "2024-08-25T13:48:29.010033",
     "status": "completed"
    },
    "tags": []
   },
   "source": [
    "Many cabin nulls in train and test data, so i will drop it."
   ]
  },
  {
   "cell_type": "code",
   "execution_count": 20,
   "id": "5416652b",
   "metadata": {
    "execution": {
     "iopub.execute_input": "2024-08-25T13:48:29.109161Z",
     "iopub.status.busy": "2024-08-25T13:48:29.108617Z",
     "iopub.status.idle": "2024-08-25T13:48:29.117718Z",
     "shell.execute_reply": "2024-08-25T13:48:29.116521Z"
    },
    "papermill": {
     "duration": 0.045888,
     "end_time": "2024-08-25T13:48:29.120290",
     "exception": false,
     "start_time": "2024-08-25T13:48:29.074402",
     "status": "completed"
    },
    "tags": []
   },
   "outputs": [],
   "source": [
    "train=train[sorted(train.columns)]\n",
    "test=test[sorted(test.columns)]"
   ]
  },
  {
   "cell_type": "code",
   "execution_count": 21,
   "id": "5e9074b3",
   "metadata": {
    "execution": {
     "iopub.execute_input": "2024-08-25T13:48:29.186139Z",
     "iopub.status.busy": "2024-08-25T13:48:29.185733Z",
     "iopub.status.idle": "2024-08-25T13:48:29.193777Z",
     "shell.execute_reply": "2024-08-25T13:48:29.192718Z"
    },
    "papermill": {
     "duration": 0.04415,
     "end_time": "2024-08-25T13:48:29.196410",
     "exception": false,
     "start_time": "2024-08-25T13:48:29.152260",
     "status": "completed"
    },
    "tags": []
   },
   "outputs": [],
   "source": [
    "train.drop(axis=1,columns=['Name','Ticket','Cabin'],inplace=True)\n",
    "train.set_index('PassengerId',inplace=True)"
   ]
  },
  {
   "cell_type": "code",
   "execution_count": 22,
   "id": "3d7d51d3",
   "metadata": {
    "execution": {
     "iopub.execute_input": "2024-08-25T13:48:29.263460Z",
     "iopub.status.busy": "2024-08-25T13:48:29.263062Z",
     "iopub.status.idle": "2024-08-25T13:48:29.271376Z",
     "shell.execute_reply": "2024-08-25T13:48:29.270138Z"
    },
    "papermill": {
     "duration": 0.044881,
     "end_time": "2024-08-25T13:48:29.274106",
     "exception": false,
     "start_time": "2024-08-25T13:48:29.229225",
     "status": "completed"
    },
    "tags": []
   },
   "outputs": [],
   "source": [
    "test.drop(axis=1,columns=['Name','Ticket','Cabin'],inplace=True)\n",
    "test.set_index('PassengerId',inplace=True)"
   ]
  },
  {
   "cell_type": "code",
   "execution_count": 23,
   "id": "96e73502",
   "metadata": {
    "execution": {
     "iopub.execute_input": "2024-08-25T13:48:29.343030Z",
     "iopub.status.busy": "2024-08-25T13:48:29.342568Z",
     "iopub.status.idle": "2024-08-25T13:48:29.365236Z",
     "shell.execute_reply": "2024-08-25T13:48:29.364032Z"
    },
    "papermill": {
     "duration": 0.058161,
     "end_time": "2024-08-25T13:48:29.367576",
     "exception": false,
     "start_time": "2024-08-25T13:48:29.309415",
     "status": "completed"
    },
    "tags": []
   },
   "outputs": [
    {
     "data": {
      "text/html": [
       "<div>\n",
       "<style scoped>\n",
       "    .dataframe tbody tr th:only-of-type {\n",
       "        vertical-align: middle;\n",
       "    }\n",
       "\n",
       "    .dataframe tbody tr th {\n",
       "        vertical-align: top;\n",
       "    }\n",
       "\n",
       "    .dataframe thead th {\n",
       "        text-align: right;\n",
       "    }\n",
       "</style>\n",
       "<table border=\"1\" class=\"dataframe\">\n",
       "  <thead>\n",
       "    <tr style=\"text-align: right;\">\n",
       "      <th></th>\n",
       "      <th>Age</th>\n",
       "      <th>Embarked</th>\n",
       "      <th>Fare</th>\n",
       "      <th>Parch</th>\n",
       "      <th>Pclass</th>\n",
       "      <th>Sex</th>\n",
       "      <th>SibSp</th>\n",
       "      <th>Survived</th>\n",
       "    </tr>\n",
       "    <tr>\n",
       "      <th>PassengerId</th>\n",
       "      <th></th>\n",
       "      <th></th>\n",
       "      <th></th>\n",
       "      <th></th>\n",
       "      <th></th>\n",
       "      <th></th>\n",
       "      <th></th>\n",
       "      <th></th>\n",
       "    </tr>\n",
       "  </thead>\n",
       "  <tbody>\n",
       "    <tr>\n",
       "      <th>1</th>\n",
       "      <td>22.0</td>\n",
       "      <td>S</td>\n",
       "      <td>7.2500</td>\n",
       "      <td>0</td>\n",
       "      <td>3</td>\n",
       "      <td>male</td>\n",
       "      <td>1</td>\n",
       "      <td>0</td>\n",
       "    </tr>\n",
       "    <tr>\n",
       "      <th>2</th>\n",
       "      <td>38.0</td>\n",
       "      <td>C</td>\n",
       "      <td>71.2833</td>\n",
       "      <td>0</td>\n",
       "      <td>1</td>\n",
       "      <td>female</td>\n",
       "      <td>1</td>\n",
       "      <td>1</td>\n",
       "    </tr>\n",
       "    <tr>\n",
       "      <th>3</th>\n",
       "      <td>26.0</td>\n",
       "      <td>S</td>\n",
       "      <td>7.9250</td>\n",
       "      <td>0</td>\n",
       "      <td>3</td>\n",
       "      <td>female</td>\n",
       "      <td>0</td>\n",
       "      <td>1</td>\n",
       "    </tr>\n",
       "    <tr>\n",
       "      <th>4</th>\n",
       "      <td>35.0</td>\n",
       "      <td>S</td>\n",
       "      <td>53.1000</td>\n",
       "      <td>0</td>\n",
       "      <td>1</td>\n",
       "      <td>female</td>\n",
       "      <td>1</td>\n",
       "      <td>1</td>\n",
       "    </tr>\n",
       "    <tr>\n",
       "      <th>5</th>\n",
       "      <td>35.0</td>\n",
       "      <td>S</td>\n",
       "      <td>8.0500</td>\n",
       "      <td>0</td>\n",
       "      <td>3</td>\n",
       "      <td>male</td>\n",
       "      <td>0</td>\n",
       "      <td>0</td>\n",
       "    </tr>\n",
       "    <tr>\n",
       "      <th>6</th>\n",
       "      <td>NaN</td>\n",
       "      <td>Q</td>\n",
       "      <td>8.4583</td>\n",
       "      <td>0</td>\n",
       "      <td>3</td>\n",
       "      <td>male</td>\n",
       "      <td>0</td>\n",
       "      <td>0</td>\n",
       "    </tr>\n",
       "    <tr>\n",
       "      <th>7</th>\n",
       "      <td>54.0</td>\n",
       "      <td>S</td>\n",
       "      <td>51.8625</td>\n",
       "      <td>0</td>\n",
       "      <td>1</td>\n",
       "      <td>male</td>\n",
       "      <td>0</td>\n",
       "      <td>0</td>\n",
       "    </tr>\n",
       "    <tr>\n",
       "      <th>8</th>\n",
       "      <td>2.0</td>\n",
       "      <td>S</td>\n",
       "      <td>21.0750</td>\n",
       "      <td>1</td>\n",
       "      <td>3</td>\n",
       "      <td>male</td>\n",
       "      <td>3</td>\n",
       "      <td>0</td>\n",
       "    </tr>\n",
       "    <tr>\n",
       "      <th>9</th>\n",
       "      <td>27.0</td>\n",
       "      <td>S</td>\n",
       "      <td>11.1333</td>\n",
       "      <td>2</td>\n",
       "      <td>3</td>\n",
       "      <td>female</td>\n",
       "      <td>0</td>\n",
       "      <td>1</td>\n",
       "    </tr>\n",
       "    <tr>\n",
       "      <th>10</th>\n",
       "      <td>14.0</td>\n",
       "      <td>C</td>\n",
       "      <td>30.0708</td>\n",
       "      <td>0</td>\n",
       "      <td>2</td>\n",
       "      <td>female</td>\n",
       "      <td>1</td>\n",
       "      <td>1</td>\n",
       "    </tr>\n",
       "    <tr>\n",
       "      <th>11</th>\n",
       "      <td>4.0</td>\n",
       "      <td>S</td>\n",
       "      <td>16.7000</td>\n",
       "      <td>1</td>\n",
       "      <td>3</td>\n",
       "      <td>female</td>\n",
       "      <td>1</td>\n",
       "      <td>1</td>\n",
       "    </tr>\n",
       "    <tr>\n",
       "      <th>12</th>\n",
       "      <td>58.0</td>\n",
       "      <td>S</td>\n",
       "      <td>26.5500</td>\n",
       "      <td>0</td>\n",
       "      <td>1</td>\n",
       "      <td>female</td>\n",
       "      <td>0</td>\n",
       "      <td>1</td>\n",
       "    </tr>\n",
       "    <tr>\n",
       "      <th>13</th>\n",
       "      <td>20.0</td>\n",
       "      <td>S</td>\n",
       "      <td>8.0500</td>\n",
       "      <td>0</td>\n",
       "      <td>3</td>\n",
       "      <td>male</td>\n",
       "      <td>0</td>\n",
       "      <td>0</td>\n",
       "    </tr>\n",
       "    <tr>\n",
       "      <th>14</th>\n",
       "      <td>39.0</td>\n",
       "      <td>S</td>\n",
       "      <td>31.2750</td>\n",
       "      <td>5</td>\n",
       "      <td>3</td>\n",
       "      <td>male</td>\n",
       "      <td>1</td>\n",
       "      <td>0</td>\n",
       "    </tr>\n",
       "    <tr>\n",
       "      <th>15</th>\n",
       "      <td>14.0</td>\n",
       "      <td>S</td>\n",
       "      <td>7.8542</td>\n",
       "      <td>0</td>\n",
       "      <td>3</td>\n",
       "      <td>female</td>\n",
       "      <td>0</td>\n",
       "      <td>0</td>\n",
       "    </tr>\n",
       "    <tr>\n",
       "      <th>16</th>\n",
       "      <td>55.0</td>\n",
       "      <td>S</td>\n",
       "      <td>16.0000</td>\n",
       "      <td>0</td>\n",
       "      <td>2</td>\n",
       "      <td>female</td>\n",
       "      <td>0</td>\n",
       "      <td>1</td>\n",
       "    </tr>\n",
       "    <tr>\n",
       "      <th>17</th>\n",
       "      <td>2.0</td>\n",
       "      <td>Q</td>\n",
       "      <td>29.1250</td>\n",
       "      <td>1</td>\n",
       "      <td>3</td>\n",
       "      <td>male</td>\n",
       "      <td>4</td>\n",
       "      <td>0</td>\n",
       "    </tr>\n",
       "    <tr>\n",
       "      <th>18</th>\n",
       "      <td>NaN</td>\n",
       "      <td>S</td>\n",
       "      <td>13.0000</td>\n",
       "      <td>0</td>\n",
       "      <td>2</td>\n",
       "      <td>male</td>\n",
       "      <td>0</td>\n",
       "      <td>1</td>\n",
       "    </tr>\n",
       "    <tr>\n",
       "      <th>19</th>\n",
       "      <td>31.0</td>\n",
       "      <td>S</td>\n",
       "      <td>18.0000</td>\n",
       "      <td>0</td>\n",
       "      <td>3</td>\n",
       "      <td>female</td>\n",
       "      <td>1</td>\n",
       "      <td>0</td>\n",
       "    </tr>\n",
       "    <tr>\n",
       "      <th>20</th>\n",
       "      <td>NaN</td>\n",
       "      <td>C</td>\n",
       "      <td>7.2250</td>\n",
       "      <td>0</td>\n",
       "      <td>3</td>\n",
       "      <td>female</td>\n",
       "      <td>0</td>\n",
       "      <td>1</td>\n",
       "    </tr>\n",
       "  </tbody>\n",
       "</table>\n",
       "</div>"
      ],
      "text/plain": [
       "              Age Embarked     Fare  Parch  Pclass     Sex  SibSp  Survived\n",
       "PassengerId                                                                \n",
       "1            22.0        S   7.2500      0       3    male      1         0\n",
       "2            38.0        C  71.2833      0       1  female      1         1\n",
       "3            26.0        S   7.9250      0       3  female      0         1\n",
       "4            35.0        S  53.1000      0       1  female      1         1\n",
       "5            35.0        S   8.0500      0       3    male      0         0\n",
       "6             NaN        Q   8.4583      0       3    male      0         0\n",
       "7            54.0        S  51.8625      0       1    male      0         0\n",
       "8             2.0        S  21.0750      1       3    male      3         0\n",
       "9            27.0        S  11.1333      2       3  female      0         1\n",
       "10           14.0        C  30.0708      0       2  female      1         1\n",
       "11            4.0        S  16.7000      1       3  female      1         1\n",
       "12           58.0        S  26.5500      0       1  female      0         1\n",
       "13           20.0        S   8.0500      0       3    male      0         0\n",
       "14           39.0        S  31.2750      5       3    male      1         0\n",
       "15           14.0        S   7.8542      0       3  female      0         0\n",
       "16           55.0        S  16.0000      0       2  female      0         1\n",
       "17            2.0        Q  29.1250      1       3    male      4         0\n",
       "18            NaN        S  13.0000      0       2    male      0         1\n",
       "19           31.0        S  18.0000      0       3  female      1         0\n",
       "20            NaN        C   7.2250      0       3  female      0         1"
      ]
     },
     "execution_count": 23,
     "metadata": {},
     "output_type": "execute_result"
    }
   ],
   "source": [
    "train.head(20)"
   ]
  },
  {
   "cell_type": "code",
   "execution_count": 24,
   "id": "07bcbae8",
   "metadata": {
    "execution": {
     "iopub.execute_input": "2024-08-25T13:48:29.435054Z",
     "iopub.status.busy": "2024-08-25T13:48:29.434214Z",
     "iopub.status.idle": "2024-08-25T13:48:29.447515Z",
     "shell.execute_reply": "2024-08-25T13:48:29.446420Z"
    },
    "papermill": {
     "duration": 0.050263,
     "end_time": "2024-08-25T13:48:29.450286",
     "exception": false,
     "start_time": "2024-08-25T13:48:29.400023",
     "status": "completed"
    },
    "tags": []
   },
   "outputs": [],
   "source": [
    "train = pd.get_dummies(train, columns=['Embarked'], dtype='int')\n",
    "train=pd.get_dummies(train,columns=['Sex'], dtype='int')"
   ]
  },
  {
   "cell_type": "code",
   "execution_count": 25,
   "id": "f8c2c738",
   "metadata": {
    "execution": {
     "iopub.execute_input": "2024-08-25T13:48:29.519785Z",
     "iopub.status.busy": "2024-08-25T13:48:29.519383Z",
     "iopub.status.idle": "2024-08-25T13:48:29.532891Z",
     "shell.execute_reply": "2024-08-25T13:48:29.531896Z"
    },
    "papermill": {
     "duration": 0.05013,
     "end_time": "2024-08-25T13:48:29.535407",
     "exception": false,
     "start_time": "2024-08-25T13:48:29.485277",
     "status": "completed"
    },
    "tags": []
   },
   "outputs": [],
   "source": [
    "test = pd.get_dummies(test, columns=['Embarked'], dtype='int')\n",
    "test=pd.get_dummies(test,columns=['Sex'], dtype='int')"
   ]
  },
  {
   "cell_type": "code",
   "execution_count": 26,
   "id": "388ce399",
   "metadata": {
    "execution": {
     "iopub.execute_input": "2024-08-25T13:48:29.603194Z",
     "iopub.status.busy": "2024-08-25T13:48:29.602779Z",
     "iopub.status.idle": "2024-08-25T13:48:29.620884Z",
     "shell.execute_reply": "2024-08-25T13:48:29.619636Z"
    },
    "papermill": {
     "duration": 0.055194,
     "end_time": "2024-08-25T13:48:29.623483",
     "exception": false,
     "start_time": "2024-08-25T13:48:29.568289",
     "status": "completed"
    },
    "tags": []
   },
   "outputs": [
    {
     "data": {
      "text/html": [
       "<div>\n",
       "<style scoped>\n",
       "    .dataframe tbody tr th:only-of-type {\n",
       "        vertical-align: middle;\n",
       "    }\n",
       "\n",
       "    .dataframe tbody tr th {\n",
       "        vertical-align: top;\n",
       "    }\n",
       "\n",
       "    .dataframe thead th {\n",
       "        text-align: right;\n",
       "    }\n",
       "</style>\n",
       "<table border=\"1\" class=\"dataframe\">\n",
       "  <thead>\n",
       "    <tr style=\"text-align: right;\">\n",
       "      <th></th>\n",
       "      <th>Age</th>\n",
       "      <th>Fare</th>\n",
       "      <th>Parch</th>\n",
       "      <th>Pclass</th>\n",
       "      <th>SibSp</th>\n",
       "      <th>Survived</th>\n",
       "      <th>Embarked_C</th>\n",
       "      <th>Embarked_Q</th>\n",
       "      <th>Embarked_S</th>\n",
       "      <th>Sex_female</th>\n",
       "      <th>Sex_male</th>\n",
       "    </tr>\n",
       "    <tr>\n",
       "      <th>PassengerId</th>\n",
       "      <th></th>\n",
       "      <th></th>\n",
       "      <th></th>\n",
       "      <th></th>\n",
       "      <th></th>\n",
       "      <th></th>\n",
       "      <th></th>\n",
       "      <th></th>\n",
       "      <th></th>\n",
       "      <th></th>\n",
       "      <th></th>\n",
       "    </tr>\n",
       "  </thead>\n",
       "  <tbody>\n",
       "    <tr>\n",
       "      <th>1</th>\n",
       "      <td>22.0</td>\n",
       "      <td>7.2500</td>\n",
       "      <td>0</td>\n",
       "      <td>3</td>\n",
       "      <td>1</td>\n",
       "      <td>0</td>\n",
       "      <td>0</td>\n",
       "      <td>0</td>\n",
       "      <td>1</td>\n",
       "      <td>0</td>\n",
       "      <td>1</td>\n",
       "    </tr>\n",
       "    <tr>\n",
       "      <th>2</th>\n",
       "      <td>38.0</td>\n",
       "      <td>71.2833</td>\n",
       "      <td>0</td>\n",
       "      <td>1</td>\n",
       "      <td>1</td>\n",
       "      <td>1</td>\n",
       "      <td>1</td>\n",
       "      <td>0</td>\n",
       "      <td>0</td>\n",
       "      <td>1</td>\n",
       "      <td>0</td>\n",
       "    </tr>\n",
       "    <tr>\n",
       "      <th>3</th>\n",
       "      <td>26.0</td>\n",
       "      <td>7.9250</td>\n",
       "      <td>0</td>\n",
       "      <td>3</td>\n",
       "      <td>0</td>\n",
       "      <td>1</td>\n",
       "      <td>0</td>\n",
       "      <td>0</td>\n",
       "      <td>1</td>\n",
       "      <td>1</td>\n",
       "      <td>0</td>\n",
       "    </tr>\n",
       "    <tr>\n",
       "      <th>4</th>\n",
       "      <td>35.0</td>\n",
       "      <td>53.1000</td>\n",
       "      <td>0</td>\n",
       "      <td>1</td>\n",
       "      <td>1</td>\n",
       "      <td>1</td>\n",
       "      <td>0</td>\n",
       "      <td>0</td>\n",
       "      <td>1</td>\n",
       "      <td>1</td>\n",
       "      <td>0</td>\n",
       "    </tr>\n",
       "    <tr>\n",
       "      <th>5</th>\n",
       "      <td>35.0</td>\n",
       "      <td>8.0500</td>\n",
       "      <td>0</td>\n",
       "      <td>3</td>\n",
       "      <td>0</td>\n",
       "      <td>0</td>\n",
       "      <td>0</td>\n",
       "      <td>0</td>\n",
       "      <td>1</td>\n",
       "      <td>0</td>\n",
       "      <td>1</td>\n",
       "    </tr>\n",
       "  </tbody>\n",
       "</table>\n",
       "</div>"
      ],
      "text/plain": [
       "              Age     Fare  Parch  Pclass  SibSp  Survived  Embarked_C  \\\n",
       "PassengerId                                                              \n",
       "1            22.0   7.2500      0       3      1         0           0   \n",
       "2            38.0  71.2833      0       1      1         1           1   \n",
       "3            26.0   7.9250      0       3      0         1           0   \n",
       "4            35.0  53.1000      0       1      1         1           0   \n",
       "5            35.0   8.0500      0       3      0         0           0   \n",
       "\n",
       "             Embarked_Q  Embarked_S  Sex_female  Sex_male  \n",
       "PassengerId                                                \n",
       "1                     0           1           0         1  \n",
       "2                     0           0           1         0  \n",
       "3                     0           1           1         0  \n",
       "4                     0           1           1         0  \n",
       "5                     0           1           0         1  "
      ]
     },
     "execution_count": 26,
     "metadata": {},
     "output_type": "execute_result"
    }
   ],
   "source": [
    "train.head()"
   ]
  },
  {
   "cell_type": "code",
   "execution_count": 27,
   "id": "f90ea7a3",
   "metadata": {
    "execution": {
     "iopub.execute_input": "2024-08-25T13:48:29.691055Z",
     "iopub.status.busy": "2024-08-25T13:48:29.690188Z",
     "iopub.status.idle": "2024-08-25T13:48:29.706400Z",
     "shell.execute_reply": "2024-08-25T13:48:29.705329Z"
    },
    "papermill": {
     "duration": 0.052223,
     "end_time": "2024-08-25T13:48:29.708699",
     "exception": false,
     "start_time": "2024-08-25T13:48:29.656476",
     "status": "completed"
    },
    "tags": []
   },
   "outputs": [
    {
     "data": {
      "text/html": [
       "<div>\n",
       "<style scoped>\n",
       "    .dataframe tbody tr th:only-of-type {\n",
       "        vertical-align: middle;\n",
       "    }\n",
       "\n",
       "    .dataframe tbody tr th {\n",
       "        vertical-align: top;\n",
       "    }\n",
       "\n",
       "    .dataframe thead th {\n",
       "        text-align: right;\n",
       "    }\n",
       "</style>\n",
       "<table border=\"1\" class=\"dataframe\">\n",
       "  <thead>\n",
       "    <tr style=\"text-align: right;\">\n",
       "      <th></th>\n",
       "      <th>Age</th>\n",
       "      <th>Fare</th>\n",
       "      <th>Parch</th>\n",
       "      <th>Pclass</th>\n",
       "      <th>SibSp</th>\n",
       "      <th>Embarked_C</th>\n",
       "      <th>Embarked_Q</th>\n",
       "      <th>Embarked_S</th>\n",
       "      <th>Sex_female</th>\n",
       "      <th>Sex_male</th>\n",
       "    </tr>\n",
       "    <tr>\n",
       "      <th>PassengerId</th>\n",
       "      <th></th>\n",
       "      <th></th>\n",
       "      <th></th>\n",
       "      <th></th>\n",
       "      <th></th>\n",
       "      <th></th>\n",
       "      <th></th>\n",
       "      <th></th>\n",
       "      <th></th>\n",
       "      <th></th>\n",
       "    </tr>\n",
       "  </thead>\n",
       "  <tbody>\n",
       "    <tr>\n",
       "      <th>892</th>\n",
       "      <td>34.5</td>\n",
       "      <td>7.8292</td>\n",
       "      <td>0</td>\n",
       "      <td>3</td>\n",
       "      <td>0</td>\n",
       "      <td>0</td>\n",
       "      <td>1</td>\n",
       "      <td>0</td>\n",
       "      <td>0</td>\n",
       "      <td>1</td>\n",
       "    </tr>\n",
       "    <tr>\n",
       "      <th>893</th>\n",
       "      <td>47.0</td>\n",
       "      <td>7.0000</td>\n",
       "      <td>0</td>\n",
       "      <td>3</td>\n",
       "      <td>1</td>\n",
       "      <td>0</td>\n",
       "      <td>0</td>\n",
       "      <td>1</td>\n",
       "      <td>1</td>\n",
       "      <td>0</td>\n",
       "    </tr>\n",
       "    <tr>\n",
       "      <th>894</th>\n",
       "      <td>62.0</td>\n",
       "      <td>9.6875</td>\n",
       "      <td>0</td>\n",
       "      <td>2</td>\n",
       "      <td>0</td>\n",
       "      <td>0</td>\n",
       "      <td>1</td>\n",
       "      <td>0</td>\n",
       "      <td>0</td>\n",
       "      <td>1</td>\n",
       "    </tr>\n",
       "    <tr>\n",
       "      <th>895</th>\n",
       "      <td>27.0</td>\n",
       "      <td>8.6625</td>\n",
       "      <td>0</td>\n",
       "      <td>3</td>\n",
       "      <td>0</td>\n",
       "      <td>0</td>\n",
       "      <td>0</td>\n",
       "      <td>1</td>\n",
       "      <td>0</td>\n",
       "      <td>1</td>\n",
       "    </tr>\n",
       "    <tr>\n",
       "      <th>896</th>\n",
       "      <td>22.0</td>\n",
       "      <td>12.2875</td>\n",
       "      <td>1</td>\n",
       "      <td>3</td>\n",
       "      <td>1</td>\n",
       "      <td>0</td>\n",
       "      <td>0</td>\n",
       "      <td>1</td>\n",
       "      <td>1</td>\n",
       "      <td>0</td>\n",
       "    </tr>\n",
       "  </tbody>\n",
       "</table>\n",
       "</div>"
      ],
      "text/plain": [
       "              Age     Fare  Parch  Pclass  SibSp  Embarked_C  Embarked_Q  \\\n",
       "PassengerId                                                                \n",
       "892          34.5   7.8292      0       3      0           0           1   \n",
       "893          47.0   7.0000      0       3      1           0           0   \n",
       "894          62.0   9.6875      0       2      0           0           1   \n",
       "895          27.0   8.6625      0       3      0           0           0   \n",
       "896          22.0  12.2875      1       3      1           0           0   \n",
       "\n",
       "             Embarked_S  Sex_female  Sex_male  \n",
       "PassengerId                                    \n",
       "892                   0           0         1  \n",
       "893                   1           1         0  \n",
       "894                   0           0         1  \n",
       "895                   1           0         1  \n",
       "896                   1           1         0  "
      ]
     },
     "execution_count": 27,
     "metadata": {},
     "output_type": "execute_result"
    }
   ],
   "source": [
    "test.head()"
   ]
  },
  {
   "cell_type": "code",
   "execution_count": 28,
   "id": "82d90328",
   "metadata": {
    "execution": {
     "iopub.execute_input": "2024-08-25T13:48:29.777276Z",
     "iopub.status.busy": "2024-08-25T13:48:29.776806Z",
     "iopub.status.idle": "2024-08-25T13:48:29.787699Z",
     "shell.execute_reply": "2024-08-25T13:48:29.786350Z"
    },
    "papermill": {
     "duration": 0.047754,
     "end_time": "2024-08-25T13:48:29.790171",
     "exception": false,
     "start_time": "2024-08-25T13:48:29.742417",
     "status": "completed"
    },
    "tags": []
   },
   "outputs": [
    {
     "data": {
      "text/plain": [
       "Age           177\n",
       "Fare            0\n",
       "Parch           0\n",
       "Pclass          0\n",
       "SibSp           0\n",
       "Survived        0\n",
       "Embarked_C      0\n",
       "Embarked_Q      0\n",
       "Embarked_S      0\n",
       "Sex_female      0\n",
       "Sex_male        0\n",
       "dtype: int64"
      ]
     },
     "execution_count": 28,
     "metadata": {},
     "output_type": "execute_result"
    }
   ],
   "source": [
    "train.isna().sum()"
   ]
  },
  {
   "cell_type": "code",
   "execution_count": 29,
   "id": "c9f37600",
   "metadata": {
    "execution": {
     "iopub.execute_input": "2024-08-25T13:48:29.859595Z",
     "iopub.status.busy": "2024-08-25T13:48:29.858821Z",
     "iopub.status.idle": "2024-08-25T13:48:29.875036Z",
     "shell.execute_reply": "2024-08-25T13:48:29.873956Z"
    },
    "papermill": {
     "duration": 0.053786,
     "end_time": "2024-08-25T13:48:29.877636",
     "exception": false,
     "start_time": "2024-08-25T13:48:29.823850",
     "status": "completed"
    },
    "tags": []
   },
   "outputs": [
    {
     "data": {
      "text/html": [
       "<div>\n",
       "<style scoped>\n",
       "    .dataframe tbody tr th:only-of-type {\n",
       "        vertical-align: middle;\n",
       "    }\n",
       "\n",
       "    .dataframe tbody tr th {\n",
       "        vertical-align: top;\n",
       "    }\n",
       "\n",
       "    .dataframe thead th {\n",
       "        text-align: right;\n",
       "    }\n",
       "</style>\n",
       "<table border=\"1\" class=\"dataframe\">\n",
       "  <thead>\n",
       "    <tr style=\"text-align: right;\">\n",
       "      <th></th>\n",
       "      <th>Age</th>\n",
       "      <th>Fare</th>\n",
       "      <th>Parch</th>\n",
       "      <th>Pclass</th>\n",
       "      <th>SibSp</th>\n",
       "      <th>Survived</th>\n",
       "      <th>Embarked_C</th>\n",
       "      <th>Embarked_Q</th>\n",
       "      <th>Embarked_S</th>\n",
       "      <th>Sex_female</th>\n",
       "      <th>Sex_male</th>\n",
       "    </tr>\n",
       "    <tr>\n",
       "      <th>PassengerId</th>\n",
       "      <th></th>\n",
       "      <th></th>\n",
       "      <th></th>\n",
       "      <th></th>\n",
       "      <th></th>\n",
       "      <th></th>\n",
       "      <th></th>\n",
       "      <th></th>\n",
       "      <th></th>\n",
       "      <th></th>\n",
       "      <th></th>\n",
       "    </tr>\n",
       "  </thead>\n",
       "  <tbody>\n",
       "    <tr>\n",
       "      <th>1</th>\n",
       "      <td>22.0</td>\n",
       "      <td>7.2500</td>\n",
       "      <td>0</td>\n",
       "      <td>3</td>\n",
       "      <td>1</td>\n",
       "      <td>0</td>\n",
       "      <td>0</td>\n",
       "      <td>0</td>\n",
       "      <td>1</td>\n",
       "      <td>0</td>\n",
       "      <td>1</td>\n",
       "    </tr>\n",
       "    <tr>\n",
       "      <th>2</th>\n",
       "      <td>38.0</td>\n",
       "      <td>71.2833</td>\n",
       "      <td>0</td>\n",
       "      <td>1</td>\n",
       "      <td>1</td>\n",
       "      <td>1</td>\n",
       "      <td>1</td>\n",
       "      <td>0</td>\n",
       "      <td>0</td>\n",
       "      <td>1</td>\n",
       "      <td>0</td>\n",
       "    </tr>\n",
       "    <tr>\n",
       "      <th>3</th>\n",
       "      <td>26.0</td>\n",
       "      <td>7.9250</td>\n",
       "      <td>0</td>\n",
       "      <td>3</td>\n",
       "      <td>0</td>\n",
       "      <td>1</td>\n",
       "      <td>0</td>\n",
       "      <td>0</td>\n",
       "      <td>1</td>\n",
       "      <td>1</td>\n",
       "      <td>0</td>\n",
       "    </tr>\n",
       "    <tr>\n",
       "      <th>4</th>\n",
       "      <td>35.0</td>\n",
       "      <td>53.1000</td>\n",
       "      <td>0</td>\n",
       "      <td>1</td>\n",
       "      <td>1</td>\n",
       "      <td>1</td>\n",
       "      <td>0</td>\n",
       "      <td>0</td>\n",
       "      <td>1</td>\n",
       "      <td>1</td>\n",
       "      <td>0</td>\n",
       "    </tr>\n",
       "    <tr>\n",
       "      <th>5</th>\n",
       "      <td>35.0</td>\n",
       "      <td>8.0500</td>\n",
       "      <td>0</td>\n",
       "      <td>3</td>\n",
       "      <td>0</td>\n",
       "      <td>0</td>\n",
       "      <td>0</td>\n",
       "      <td>0</td>\n",
       "      <td>1</td>\n",
       "      <td>0</td>\n",
       "      <td>1</td>\n",
       "    </tr>\n",
       "  </tbody>\n",
       "</table>\n",
       "</div>"
      ],
      "text/plain": [
       "              Age     Fare  Parch  Pclass  SibSp  Survived  Embarked_C  \\\n",
       "PassengerId                                                              \n",
       "1            22.0   7.2500      0       3      1         0           0   \n",
       "2            38.0  71.2833      0       1      1         1           1   \n",
       "3            26.0   7.9250      0       3      0         1           0   \n",
       "4            35.0  53.1000      0       1      1         1           0   \n",
       "5            35.0   8.0500      0       3      0         0           0   \n",
       "\n",
       "             Embarked_Q  Embarked_S  Sex_female  Sex_male  \n",
       "PassengerId                                                \n",
       "1                     0           1           0         1  \n",
       "2                     0           0           1         0  \n",
       "3                     0           1           1         0  \n",
       "4                     0           1           1         0  \n",
       "5                     0           1           0         1  "
      ]
     },
     "execution_count": 29,
     "metadata": {},
     "output_type": "execute_result"
    }
   ],
   "source": [
    "train.head()"
   ]
  },
  {
   "cell_type": "code",
   "execution_count": 30,
   "id": "fbead619",
   "metadata": {
    "execution": {
     "iopub.execute_input": "2024-08-25T13:48:29.946756Z",
     "iopub.status.busy": "2024-08-25T13:48:29.946301Z",
     "iopub.status.idle": "2024-08-25T13:48:29.958927Z",
     "shell.execute_reply": "2024-08-25T13:48:29.957923Z"
    },
    "papermill": {
     "duration": 0.05089,
     "end_time": "2024-08-25T13:48:29.961674",
     "exception": false,
     "start_time": "2024-08-25T13:48:29.910784",
     "status": "completed"
    },
    "tags": []
   },
   "outputs": [
    {
     "data": {
      "text/plain": [
       "count    891.000000\n",
       "mean      32.204208\n",
       "std       49.693429\n",
       "min        0.000000\n",
       "25%        7.910400\n",
       "50%       14.454200\n",
       "75%       31.000000\n",
       "max      512.329200\n",
       "Name: Fare, dtype: float64"
      ]
     },
     "execution_count": 30,
     "metadata": {},
     "output_type": "execute_result"
    }
   ],
   "source": [
    "train['Fare'].describe()"
   ]
  },
  {
   "cell_type": "code",
   "execution_count": 31,
   "id": "624f80ac",
   "metadata": {
    "execution": {
     "iopub.execute_input": "2024-08-25T13:48:30.031311Z",
     "iopub.status.busy": "2024-08-25T13:48:30.030908Z",
     "iopub.status.idle": "2024-08-25T13:48:30.236367Z",
     "shell.execute_reply": "2024-08-25T13:48:30.235067Z"
    },
    "papermill": {
     "duration": 0.24367,
     "end_time": "2024-08-25T13:48:30.239252",
     "exception": false,
     "start_time": "2024-08-25T13:48:29.995582",
     "status": "completed"
    },
    "tags": []
   },
   "outputs": [
    {
     "data": {
      "image/png": "[encoded data removed]",
      "text/plain": [
       "<Figure size 640x480 with 1 Axes>"
      ]
     },
     "metadata": {},
     "output_type": "display_data"
    }
   ],
   "source": [
    "plt.boxplot(train['Fare'])\n",
    "plt.show()"
   ]
  },
  {
   "cell_type": "code",
   "execution_count": 32,
   "id": "9aa3e088",
   "metadata": {
    "execution": {
     "iopub.execute_input": "2024-08-25T13:48:30.310502Z",
     "iopub.status.busy": "2024-08-25T13:48:30.310089Z",
     "iopub.status.idle": "2024-08-25T13:48:30.323832Z",
     "shell.execute_reply": "2024-08-25T13:48:30.322688Z"
    },
    "papermill": {
     "duration": 0.05359,
     "end_time": "2024-08-25T13:48:30.326793",
     "exception": false,
     "start_time": "2024-08-25T13:48:30.273203",
     "status": "completed"
    },
    "tags": []
   },
   "outputs": [
    {
     "data": {
      "text/plain": [
       "116"
      ]
     },
     "execution_count": 32,
     "metadata": {},
     "output_type": "execute_result"
    }
   ],
   "source": [
    "Q1 = train['Fare'].quantile(0.25)\n",
    "Q3 = train['Fare'].quantile(0.75)\n",
    "IQR = Q3 - Q1\n",
    "outliers = train[(train['Fare'] < Q1 - 1.5 * IQR) | (train['Fare'] > Q3 + 1.5 * IQR)]\n",
    "outliers.shape[0]"
   ]
  },
  {
   "cell_type": "code",
   "execution_count": 33,
   "id": "8e684673",
   "metadata": {
    "execution": {
     "iopub.execute_input": "2024-08-25T13:48:30.397131Z",
     "iopub.status.busy": "2024-08-25T13:48:30.396684Z",
     "iopub.status.idle": "2024-08-25T13:48:30.406858Z",
     "shell.execute_reply": "2024-08-25T13:48:30.405318Z"
    },
    "papermill": {
     "duration": 0.048622,
     "end_time": "2024-08-25T13:48:30.409730",
     "exception": false,
     "start_time": "2024-08-25T13:48:30.361108",
     "status": "completed"
    },
    "tags": []
   },
   "outputs": [
    {
     "name": "stdout",
     "output_type": "stream",
     "text": [
      "Correlation coefficient: 0.2573065223849624\n",
      "P-value: 6.120189341924608e-15\n"
     ]
    }
   ],
   "source": [
    "from scipy.stats import pointbiserialr\n",
    "\n",
    "correlation, p_value = pointbiserialr(train['Survived'], train['Fare'])\n",
    "\n",
    "print(f\"Correlation coefficient: {correlation}\")\n",
    "print(f\"P-value: {p_value}\")"
   ]
  },
  {
   "cell_type": "code",
   "execution_count": 34,
   "id": "db5c71c4",
   "metadata": {
    "execution": {
     "iopub.execute_input": "2024-08-25T13:48:30.482931Z",
     "iopub.status.busy": "2024-08-25T13:48:30.482558Z",
     "iopub.status.idle": "2024-08-25T13:48:31.544821Z",
     "shell.execute_reply": "2024-08-25T13:48:31.543655Z"
    },
    "papermill": {
     "duration": 1.102722,
     "end_time": "2024-08-25T13:48:31.547859",
     "exception": false,
     "start_time": "2024-08-25T13:48:30.445137",
     "status": "completed"
    },
    "tags": []
   },
   "outputs": [
    {
     "data": {
      "image/png": "[encoded data removed]",
      "text/plain": [
       "<Figure size 640x480 with 1 Axes>"
      ]
     },
     "metadata": {},
     "output_type": "display_data"
    }
   ],
   "source": [
    "plt.hist(train['Fare'],bins=int(train['Fare'].max()-train['Fare'].min()))\n",
    "plt.show()"
   ]
  },
  {
   "cell_type": "code",
   "execution_count": 35,
   "id": "9406a3e1",
   "metadata": {
    "execution": {
     "iopub.execute_input": "2024-08-25T13:48:31.621565Z",
     "iopub.status.busy": "2024-08-25T13:48:31.621025Z",
     "iopub.status.idle": "2024-08-25T13:48:31.629707Z",
     "shell.execute_reply": "2024-08-25T13:48:31.628484Z"
    },
    "papermill": {
     "duration": 0.048203,
     "end_time": "2024-08-25T13:48:31.632614",
     "exception": false,
     "start_time": "2024-08-25T13:48:31.584411",
     "status": "completed"
    },
    "tags": []
   },
   "outputs": [],
   "source": [
    "train['Fare']+=0.0001\n",
    "train['Fare']=np.log(train['Fare'])"
   ]
  },
  {
   "cell_type": "code",
   "execution_count": 36,
   "id": "cad11849",
   "metadata": {
    "execution": {
     "iopub.execute_input": "2024-08-25T13:48:31.704050Z",
     "iopub.status.busy": "2024-08-25T13:48:31.703225Z",
     "iopub.status.idle": "2024-08-25T13:48:31.710228Z",
     "shell.execute_reply": "2024-08-25T13:48:31.708948Z"
    },
    "papermill": {
     "duration": 0.045628,
     "end_time": "2024-08-25T13:48:31.713098",
     "exception": false,
     "start_time": "2024-08-25T13:48:31.667470",
     "status": "completed"
    },
    "tags": []
   },
   "outputs": [],
   "source": [
    "test['Fare']+=0.0001\n",
    "test['Fare']=np.log(test['Fare'])"
   ]
  },
  {
   "cell_type": "code",
   "execution_count": 37,
   "id": "5d6be496",
   "metadata": {
    "execution": {
     "iopub.execute_input": "2024-08-25T13:48:31.786027Z",
     "iopub.status.busy": "2024-08-25T13:48:31.785191Z",
     "iopub.status.idle": "2024-08-25T13:48:32.212413Z",
     "shell.execute_reply": "2024-08-25T13:48:32.211099Z"
    },
    "papermill": {
     "duration": 0.465998,
     "end_time": "2024-08-25T13:48:32.215175",
     "exception": false,
     "start_time": "2024-08-25T13:48:31.749177",
     "status": "completed"
    },
    "tags": []
   },
   "outputs": [
    {
     "data": {
      "image/png": "[encoded data removed]",
      "text/plain": [
       "<Figure size 640x480 with 1 Axes>"
      ]
     },
     "metadata": {},
     "output_type": "display_data"
    }
   ],
   "source": [
    "plt.hist(train['Fare'],bins=100)\n",
    "plt.show()"
   ]
  },
  {
   "cell_type": "code",
   "execution_count": 38,
   "id": "0a3b89d1",
   "metadata": {
    "execution": {
     "iopub.execute_input": "2024-08-25T13:48:32.288212Z",
     "iopub.status.busy": "2024-08-25T13:48:32.287394Z",
     "iopub.status.idle": "2024-08-25T13:48:32.505696Z",
     "shell.execute_reply": "2024-08-25T13:48:32.504433Z"
    },
    "papermill": {
     "duration": 0.257683,
     "end_time": "2024-08-25T13:48:32.508446",
     "exception": false,
     "start_time": "2024-08-25T13:48:32.250763",
     "status": "completed"
    },
    "tags": []
   },
   "outputs": [
    {
     "data": {
      "image/png": "[encoded data removed]",
      "text/plain": [
       "<Figure size 640x480 with 1 Axes>"
      ]
     },
     "metadata": {},
     "output_type": "display_data"
    }
   ],
   "source": [
    "plt.boxplot(train['Fare'])\n",
    "plt.show()"
   ]
  },
  {
   "cell_type": "code",
   "execution_count": 39,
   "id": "98972e7e",
   "metadata": {
    "execution": {
     "iopub.execute_input": "2024-08-25T13:48:32.580225Z",
     "iopub.status.busy": "2024-08-25T13:48:32.579801Z",
     "iopub.status.idle": "2024-08-25T13:48:32.795628Z",
     "shell.execute_reply": "2024-08-25T13:48:32.794514Z"
    },
    "papermill": {
     "duration": 0.254606,
     "end_time": "2024-08-25T13:48:32.798010",
     "exception": false,
     "start_time": "2024-08-25T13:48:32.543404",
     "status": "completed"
    },
    "tags": []
   },
   "outputs": [
    {
     "data": {
      "image/png": "[encoded data removed]",
      "text/plain": [
       "<Figure size 640x480 with 1 Axes>"
      ]
     },
     "metadata": {},
     "output_type": "display_data"
    }
   ],
   "source": [
    "plt.boxplot(test['Fare'])\n",
    "plt.show()"
   ]
  },
  {
   "cell_type": "code",
   "execution_count": 40,
   "id": "e4c35bfc",
   "metadata": {
    "execution": {
     "iopub.execute_input": "2024-08-25T13:48:32.872011Z",
     "iopub.status.busy": "2024-08-25T13:48:32.871537Z",
     "iopub.status.idle": "2024-08-25T13:48:32.885229Z",
     "shell.execute_reply": "2024-08-25T13:48:32.884063Z"
    },
    "papermill": {
     "duration": 0.053761,
     "end_time": "2024-08-25T13:48:32.888138",
     "exception": false,
     "start_time": "2024-08-25T13:48:32.834377",
     "status": "completed"
    },
    "tags": []
   },
   "outputs": [
    {
     "data": {
      "text/plain": [
       "26"
      ]
     },
     "execution_count": 40,
     "metadata": {},
     "output_type": "execute_result"
    }
   ],
   "source": [
    "Q1 = train['Fare'].quantile(0.25)\n",
    "Q3 = train['Fare'].quantile(0.75)\n",
    "IQR = Q3 - Q1\n",
    "outliers = train[(train['Fare'] < Q1 - 1.5 * IQR) | (train['Fare'] > Q3 + 1.5 * IQR)]\n",
    "outliers.shape[0]"
   ]
  },
  {
   "cell_type": "code",
   "execution_count": 41,
   "id": "b131ab11",
   "metadata": {
    "execution": {
     "iopub.execute_input": "2024-08-25T13:48:32.961686Z",
     "iopub.status.busy": "2024-08-25T13:48:32.961265Z",
     "iopub.status.idle": "2024-08-25T13:48:32.969168Z",
     "shell.execute_reply": "2024-08-25T13:48:32.967869Z"
    },
    "papermill": {
     "duration": 0.048026,
     "end_time": "2024-08-25T13:48:32.971672",
     "exception": false,
     "start_time": "2024-08-25T13:48:32.923646",
     "status": "completed"
    },
    "tags": []
   },
   "outputs": [],
   "source": [
    "train['Fare'] = np.where(train['Fare'] > Q3 + 1.5 * IQR, Q3 + 1.5 * IQR, train['Fare'])\n",
    "train['Fare'] = np.where(train['Fare'] < Q1 - 1.5 * IQR, Q1 - 1.5 * IQR, train['Fare'])"
   ]
  },
  {
   "cell_type": "code",
   "execution_count": 42,
   "id": "ebb888e3",
   "metadata": {
    "execution": {
     "iopub.execute_input": "2024-08-25T13:48:33.044883Z",
     "iopub.status.busy": "2024-08-25T13:48:33.044422Z",
     "iopub.status.idle": "2024-08-25T13:48:33.249147Z",
     "shell.execute_reply": "2024-08-25T13:48:33.248042Z"
    },
    "papermill": {
     "duration": 0.244574,
     "end_time": "2024-08-25T13:48:33.251909",
     "exception": false,
     "start_time": "2024-08-25T13:48:33.007335",
     "status": "completed"
    },
    "tags": []
   },
   "outputs": [
    {
     "data": {
      "image/png": "[encoded data removed]",
      "text/plain": [
       "<Figure size 640x480 with 1 Axes>"
      ]
     },
     "metadata": {},
     "output_type": "display_data"
    }
   ],
   "source": [
    "plt.boxplot(train['Fare'])\n",
    "plt.show()"
   ]
  },
  {
   "cell_type": "code",
   "execution_count": 43,
   "id": "2eff3afc",
   "metadata": {
    "execution": {
     "iopub.execute_input": "2024-08-25T13:48:33.324809Z",
     "iopub.status.busy": "2024-08-25T13:48:33.324399Z",
     "iopub.status.idle": "2024-08-25T13:48:33.337075Z",
     "shell.execute_reply": "2024-08-25T13:48:33.335663Z"
    },
    "papermill": {
     "duration": 0.052414,
     "end_time": "2024-08-25T13:48:33.340003",
     "exception": false,
     "start_time": "2024-08-25T13:48:33.287589",
     "status": "completed"
    },
    "tags": []
   },
   "outputs": [],
   "source": [
    "Q1 = test['Fare'].quantile(0.25)\n",
    "Q3 = test['Fare'].quantile(0.75)\n",
    "IQR = Q3 - Q1\n",
    "test['Fare'] = np.where(test['Fare'] > Q3 + 1.5 * IQR, Q3 + 1.5 * IQR, test['Fare'])\n",
    "test['Fare'] = np.where(test['Fare'] < Q1 - 1.5 * IQR, Q1 - 1.5 * IQR, test['Fare'])"
   ]
  },
  {
   "cell_type": "code",
   "execution_count": 44,
   "id": "96cb21ac",
   "metadata": {
    "execution": {
     "iopub.execute_input": "2024-08-25T13:48:33.415012Z",
     "iopub.status.busy": "2024-08-25T13:48:33.414573Z",
     "iopub.status.idle": "2024-08-25T13:48:33.578529Z",
     "shell.execute_reply": "2024-08-25T13:48:33.576915Z"
    },
    "papermill": {
     "duration": 0.206435,
     "end_time": "2024-08-25T13:48:33.582893",
     "exception": false,
     "start_time": "2024-08-25T13:48:33.376458",
     "status": "completed"
    },
    "tags": []
   },
   "outputs": [
    {
     "data": {
      "image/png": "[encoded data removed]",
      "text/plain": [
       "<Figure size 640x480 with 1 Axes>"
      ]
     },
     "metadata": {},
     "output_type": "display_data"
    }
   ],
   "source": [
    "plt.boxplot(test['Fare'])\n",
    "plt.show()"
   ]
  },
  {
   "cell_type": "code",
   "execution_count": 45,
   "id": "c30a5e2e",
   "metadata": {
    "execution": {
     "iopub.execute_input": "2024-08-25T13:48:33.658131Z",
     "iopub.status.busy": "2024-08-25T13:48:33.657727Z",
     "iopub.status.idle": "2024-08-25T13:48:33.665282Z",
     "shell.execute_reply": "2024-08-25T13:48:33.663963Z"
    },
    "papermill": {
     "duration": 0.048128,
     "end_time": "2024-08-25T13:48:33.667750",
     "exception": false,
     "start_time": "2024-08-25T13:48:33.619622",
     "status": "completed"
    },
    "tags": []
   },
   "outputs": [
    {
     "name": "stdout",
     "output_type": "stream",
     "text": [
      "0.42\n",
      "80.0\n"
     ]
    }
   ],
   "source": [
    "print(train['Age'].min())\n",
    "print(train['Age'].max())"
   ]
  },
  {
   "cell_type": "code",
   "execution_count": 46,
   "id": "8b594085",
   "metadata": {
    "execution": {
     "iopub.execute_input": "2024-08-25T13:48:33.744141Z",
     "iopub.status.busy": "2024-08-25T13:48:33.743528Z",
     "iopub.status.idle": "2024-08-25T13:48:33.751197Z",
     "shell.execute_reply": "2024-08-25T13:48:33.749988Z"
    },
    "papermill": {
     "duration": 0.048394,
     "end_time": "2024-08-25T13:48:33.753659",
     "exception": false,
     "start_time": "2024-08-25T13:48:33.705265",
     "status": "completed"
    },
    "tags": []
   },
   "outputs": [
    {
     "name": "stdout",
     "output_type": "stream",
     "text": [
      "0.17\n",
      "76.0\n"
     ]
    }
   ],
   "source": [
    "print(test['Age'].min())\n",
    "print(test['Age'].max())"
   ]
  },
  {
   "cell_type": "code",
   "execution_count": 47,
   "id": "ea054b77",
   "metadata": {
    "execution": {
     "iopub.execute_input": "2024-08-25T13:48:33.831662Z",
     "iopub.status.busy": "2024-08-25T13:48:33.831264Z",
     "iopub.status.idle": "2024-08-25T13:48:34.054527Z",
     "shell.execute_reply": "2024-08-25T13:48:34.053396Z"
    },
    "papermill": {
     "duration": 0.265463,
     "end_time": "2024-08-25T13:48:34.057181",
     "exception": false,
     "start_time": "2024-08-25T13:48:33.791718",
     "status": "completed"
    },
    "tags": []
   },
   "outputs": [
    {
     "data": {
      "image/png": "[encoded data removed]",
      "text/plain": [
       "<Figure size 640x480 with 1 Axes>"
      ]
     },
     "metadata": {},
     "output_type": "display_data"
    }
   ],
   "source": [
    "plt.boxplot(train[train['Age'].notna()]['Age'])\n",
    "plt.show()"
   ]
  },
  {
   "cell_type": "code",
   "execution_count": 48,
   "id": "2f39bd69",
   "metadata": {
    "execution": {
     "iopub.execute_input": "2024-08-25T13:48:34.134176Z",
     "iopub.status.busy": "2024-08-25T13:48:34.133754Z",
     "iopub.status.idle": "2024-08-25T13:48:34.465920Z",
     "shell.execute_reply": "2024-08-25T13:48:34.464758Z"
    },
    "papermill": {
     "duration": 0.373473,
     "end_time": "2024-08-25T13:48:34.468485",
     "exception": false,
     "start_time": "2024-08-25T13:48:34.095012",
     "status": "completed"
    },
    "tags": []
   },
   "outputs": [
    {
     "data": {
      "image/png": "[encoded data removed]",
      "text/plain": [
       "<Figure size 640x480 with 1 Axes>"
      ]
     },
     "metadata": {},
     "output_type": "display_data"
    }
   ],
   "source": [
    "plt.boxplot(test[test['Age'].notna()]['Age'])\n",
    "plt.show()"
   ]
  },
  {
   "cell_type": "code",
   "execution_count": 49,
   "id": "ffad19b2",
   "metadata": {
    "execution": {
     "iopub.execute_input": "2024-08-25T13:48:34.546311Z",
     "iopub.status.busy": "2024-08-25T13:48:34.545868Z",
     "iopub.status.idle": "2024-08-25T13:48:34.562037Z",
     "shell.execute_reply": "2024-08-25T13:48:34.559789Z"
    },
    "papermill": {
     "duration": 0.058959,
     "end_time": "2024-08-25T13:48:34.565966",
     "exception": false,
     "start_time": "2024-08-25T13:48:34.507007",
     "status": "completed"
    },
    "tags": []
   },
   "outputs": [
    {
     "name": "stdout",
     "output_type": "stream",
     "text": [
      "The number of outliers in the Age column is: 11\n"
     ]
    }
   ],
   "source": [
    "# Calculate Q1 (25th percentile) and Q3 (75th percentile)\n",
    "Q1 = train['Age'].quantile(0.25)\n",
    "Q3 = train['Age'].quantile(0.75)\n",
    "\n",
    "# Calculate the IQR\n",
    "IQR = Q3 - Q1\n",
    "\n",
    "# Determine the lower and upper bounds\n",
    "lower_bound = Q1 - 1.5 * IQR\n",
    "upper_bound = Q3 + 1.5 * IQR\n",
    "\n",
    "# Identify outliers\n",
    "outliers = train[ (train['Age'] < lower_bound) |(train['Age'] > upper_bound)]\n",
    "\n",
    "# Count the number of outliers\n",
    "num_outliers = outliers.shape[0]\n",
    "\n",
    "print(f\"The number of outliers in the Age column is: {num_outliers}\")"
   ]
  },
  {
   "cell_type": "code",
   "execution_count": 50,
   "id": "f576c9a4",
   "metadata": {
    "execution": {
     "iopub.execute_input": "2024-08-25T13:48:34.653129Z",
     "iopub.status.busy": "2024-08-25T13:48:34.652660Z",
     "iopub.status.idle": "2024-08-25T13:48:34.660471Z",
     "shell.execute_reply": "2024-08-25T13:48:34.659241Z"
    },
    "papermill": {
     "duration": 0.049515,
     "end_time": "2024-08-25T13:48:34.663356",
     "exception": false,
     "start_time": "2024-08-25T13:48:34.613841",
     "status": "completed"
    },
    "tags": []
   },
   "outputs": [],
   "source": [
    "train['Age'] = np.where(train['Age'] > upper_bound, upper_bound, train['Age'])\n",
    "test['Age'] = np.where(test['Age'] > upper_bound, upper_bound, test['Age'])"
   ]
  },
  {
   "cell_type": "code",
   "execution_count": 51,
   "id": "7920a870",
   "metadata": {
    "execution": {
     "iopub.execute_input": "2024-08-25T13:48:34.754662Z",
     "iopub.status.busy": "2024-08-25T13:48:34.754133Z",
     "iopub.status.idle": "2024-08-25T13:48:34.764264Z",
     "shell.execute_reply": "2024-08-25T13:48:34.762928Z"
    },
    "papermill": {
     "duration": 0.059189,
     "end_time": "2024-08-25T13:48:34.767268",
     "exception": false,
     "start_time": "2024-08-25T13:48:34.708079",
     "status": "completed"
    },
    "tags": []
   },
   "outputs": [
    {
     "name": "stdout",
     "output_type": "stream",
     "text": [
      "The number of outliers in the Age column is: 0\n"
     ]
    }
   ],
   "source": [
    "# Identify outliers\n",
    "outliers = train[ (train['Age'] < lower_bound) |(train['Age'] > upper_bound)]\n",
    "\n",
    "# Count the number of outliers\n",
    "num_outliers = outliers.shape[0]\n",
    "\n",
    "print(f\"The number of outliers in the Age column is: {num_outliers}\")"
   ]
  },
  {
   "cell_type": "markdown",
   "id": "8ad889c5",
   "metadata": {
    "papermill": {
     "duration": 0.037731,
     "end_time": "2024-08-25T13:48:34.844377",
     "exception": false,
     "start_time": "2024-08-25T13:48:34.806646",
     "status": "completed"
    },
    "tags": []
   },
   "source": [
    "# Age's Nulls"
   ]
  },
  {
   "cell_type": "code",
   "execution_count": 52,
   "id": "f0f82a09",
   "metadata": {
    "execution": {
     "iopub.execute_input": "2024-08-25T13:48:34.926272Z",
     "iopub.status.busy": "2024-08-25T13:48:34.925130Z",
     "iopub.status.idle": "2024-08-25T13:48:34.934935Z",
     "shell.execute_reply": "2024-08-25T13:48:34.933822Z"
    },
    "papermill": {
     "duration": 0.051197,
     "end_time": "2024-08-25T13:48:34.937326",
     "exception": false,
     "start_time": "2024-08-25T13:48:34.886129",
     "status": "completed"
    },
    "tags": []
   },
   "outputs": [
    {
     "data": {
      "text/plain": [
       "(714, 11)"
      ]
     },
     "execution_count": 52,
     "metadata": {},
     "output_type": "execute_result"
    }
   ],
   "source": [
    "train[train['Age'].notna()].shape"
   ]
  },
  {
   "cell_type": "code",
   "execution_count": 53,
   "id": "75dc2511",
   "metadata": {
    "execution": {
     "iopub.execute_input": "2024-08-25T13:48:35.015117Z",
     "iopub.status.busy": "2024-08-25T13:48:35.014694Z",
     "iopub.status.idle": "2024-08-25T13:48:36.850384Z",
     "shell.execute_reply": "2024-08-25T13:48:36.848882Z"
    },
    "papermill": {
     "duration": 1.87916,
     "end_time": "2024-08-25T13:48:36.854522",
     "exception": false,
     "start_time": "2024-08-25T13:48:34.975362",
     "status": "completed"
    },
    "tags": []
   },
   "outputs": [
    {
     "name": "stdout",
     "output_type": "stream",
     "text": [
      "Linear Regression Train MAE: 9.81\n",
      "Linear Regression Test MAE: 9.88\n",
      "\n",
      "SGD Regressor Train MAE: 10.00\n",
      "SGD Regressor Test MAE: 10.07\n",
      "\n",
      "SGD Regressor LR Train MAE: 9.80\n",
      "SGD Regressor LR Test MAE: 9.88\n",
      "\n",
      "Decision Tree Regressor Train MAE: 4.19\n",
      "Decision Tree Regressor Test MAE: 10.93\n",
      "\n",
      "Regularized Decision Tree Regressor Train MAE: 8.84\n",
      "Regularized Decision Tree Regressor Test MAE: 9.53\n",
      "\n",
      "Random Forest Regressor Train MAE: 5.88\n",
      "Random Forest Regressor Test MAE: 9.85\n",
      "\n",
      "Regularized Random Forest Regressor Train MAE: 8.05\n",
      "Regularized Random Forest Regressor Test MAE: 9.55\n",
      "\n",
      "Gradient Boosting Regressor Train MAE: 8.03\n",
      "Gradient Boosting Regressor Test MAE: 9.36\n",
      "\n",
      "Regularized Gradient Boosting Regressor Train MAE: 8.17\n",
      "Regularized Gradient Boosting Regressor Test MAE: 9.35\n",
      "\n",
      "Support Vector Regressor Train MAE: 9.58\n",
      "Support Vector Regressor Test MAE: 9.56\n",
      "\n",
      "Support Vector Regressor Degree Train MAE: 9.58\n",
      "Support Vector Regressor Degree Test MAE: 9.56\n",
      "\n",
      "K-Nearest Neighbors Train MAE: 8.23\n",
      "K-Nearest Neighbors Test MAE: 10.06\n",
      "\n",
      "K-Nearest Neighbors n=9 Train MAE: 8.66\n",
      "K-Nearest Neighbors n=9 Test MAE: 9.97\n",
      "\n",
      "Polynomial Regression (degree 2) Train MAE: 9.35\n",
      "Polynomial Regression (degree 2) Test MAE: 9.77\n",
      "\n",
      "Polynomial Regression (degree 3) Train MAE: 8.73\n",
      "Polynomial Regression (degree 3) Test MAE: 18458221.92\n",
      "\n"
     ]
    }
   ],
   "source": [
    "from sklearn.metrics import mean_absolute_error\n",
    "from sklearn.linear_model import LinearRegression, Ridge, Lasso, ElasticNet, SGDRegressor\n",
    "from sklearn.tree import DecisionTreeRegressor\n",
    "from sklearn.ensemble import RandomForestRegressor, GradientBoostingRegressor\n",
    "from sklearn.svm import SVR\n",
    "from sklearn.neighbors import KNeighborsRegressor\n",
    "from sklearn.preprocessing import PolynomialFeatures\n",
    "from sklearn.pipeline import make_pipeline\n",
    "\n",
    "# Polynomial Regression\n",
    "def polynomial_regression(degree):\n",
    "    return make_pipeline(PolynomialFeatures(degree), LinearRegression())\n",
    "\n",
    "# Filter out rows with null values in any of the specified columns\n",
    "train_clean = train.dropna()\n",
    "test_clean = test.dropna()\n",
    "\n",
    "# Separate features and target variable\n",
    "X_train = train_clean.drop(['Age','Survived'],axis=1)\n",
    "y_train = train_clean['Age']\n",
    "\n",
    "X_test = test_clean.drop('Age',axis=1)\n",
    "y_test = test_clean['Age']\n",
    "\n",
    "# Initialize regression models with and without regularization\n",
    "models = {\n",
    "    'Linear Regression': LinearRegression(),\n",
    "    \n",
    "    \n",
    "    # SGD Regressor\n",
    "    'SGD Regressor': SGDRegressor(),\n",
    "    'SGD Regressor LR': SGDRegressor(learning_rate='adaptive'),\n",
    "    \n",
    "    # Decision Tree Models\n",
    "    'Decision Tree Regressor': DecisionTreeRegressor(),\n",
    "    'Regularized Decision Tree Regressor': DecisionTreeRegressor(max_depth=5, min_samples_split=10, min_samples_leaf=5),\n",
    "    \n",
    "    # Random Forest Models\n",
    "    'Random Forest Regressor': RandomForestRegressor(),\n",
    "    'Regularized Random Forest Regressor': RandomForestRegressor(max_depth=10, min_samples_split=10, min_samples_leaf=5),\n",
    "    \n",
    "    # Gradient Boosting Models\n",
    "    'Gradient Boosting Regressor': GradientBoostingRegressor(),\n",
    "    'Regularized Gradient Boosting Regressor': GradientBoostingRegressor(max_depth=3, min_samples_split=10, min_samples_leaf=5, subsample=0.8, learning_rate=0.1),\n",
    "    \n",
    "    # Support Vector Regressor\n",
    "    'Support Vector Regressor': SVR(),\n",
    "    'Support Vector Regressor Degree': SVR(degree=100),\n",
    "    \n",
    "    # K-Nearest Neighbors\n",
    "    'K-Nearest Neighbors': KNeighborsRegressor(),\n",
    "    'K-Nearest Neighbors n=9': KNeighborsRegressor(n_neighbors=9),\n",
    "    \n",
    "    # Polynomial Regression\n",
    "    'Polynomial Regression (degree 2)': polynomial_regression(2),\n",
    "    'Polynomial Regression (degree 3)': polynomial_regression(3)\n",
    "}\n",
    "\n",
    "# Train, predict, and calculate MAE for each model\n",
    "for name, model in models.items():\n",
    "    model.fit(X_train, y_train)\n",
    "    \n",
    "    # Predictions\n",
    "    y_train_pred = model.predict(X_train)\n",
    "    y_test_pred = model.predict(X_test)\n",
    "    \n",
    "    # Calculate Mean Absolute Error\n",
    "    mae_train = mean_absolute_error(y_train, y_train_pred)\n",
    "    mae_test = mean_absolute_error(y_test, y_test_pred)\n",
    "    \n",
    "    print(f'{name} Train MAE: {mae_train:.2f}')\n",
    "    print(f'{name} Test MAE: {mae_test:.2f}\\n')\n"
   ]
  },
  {
   "cell_type": "code",
   "execution_count": 54,
   "id": "b0ff921c",
   "metadata": {
    "execution": {
     "iopub.execute_input": "2024-08-25T13:48:37.016986Z",
     "iopub.status.busy": "2024-08-25T13:48:37.016581Z",
     "iopub.status.idle": "2024-08-25T13:48:37.027331Z",
     "shell.execute_reply": "2024-08-25T13:48:37.026073Z"
    },
    "papermill": {
     "duration": 0.052474,
     "end_time": "2024-08-25T13:48:37.029926",
     "exception": false,
     "start_time": "2024-08-25T13:48:36.977452",
     "status": "completed"
    },
    "tags": []
   },
   "outputs": [],
   "source": [
    "# from sklearn.model_selection import GridSearchCV\n",
    "\n",
    "\n",
    "# # Define the parameter grids for each model\n",
    "# param_grids = {\n",
    "#     'Linear Regression': {},\n",
    "    \n",
    "#     'SGD Regressor': {\n",
    "#         'alpha': [0.0001, 0.001, 0.01],\n",
    "#         'learning_rate': ['constant', 'adaptive']\n",
    "#     },\n",
    "    \n",
    "#     'Decision Tree Regressor': {\n",
    "#         'max_depth': [None, 10, 20],\n",
    "#         'min_samples_split': [2, 5, 10]\n",
    "#     },\n",
    "    \n",
    "#     'Random Forest Regressor': {\n",
    "#         'n_estimators': [50, 100, 200],\n",
    "#         'max_depth': [None, 10, 20],\n",
    "#         'min_samples_split': [2, 5, 10]\n",
    "#     },\n",
    "    \n",
    "#     'Gradient Boosting Regressor': {\n",
    "#         'n_estimators': [50, 100, 200],\n",
    "#         'max_depth': [3, 5, 7],\n",
    "#         'learning_rate': [0.01, 0.1, 0.2]\n",
    "#     },\n",
    "    \n",
    "#     'Support Vector Regressor': {\n",
    "#         'C': [0.01, 0.1, 1, 10],\n",
    "#         'kernel': ['linear', 'rbf'],\n",
    "#         'gamma': ['scale', 'auto']  # Only used for 'rbf' kernel\n",
    "#     },\n",
    "    \n",
    "#     'K-Nearest Neighbors': {\n",
    "#         'n_neighbors': [3, 5, 7, 9],\n",
    "#         'weights': ['uniform', 'distance']\n",
    "#     },\n",
    "    \n",
    "#     'Polynomial Regression': {\n",
    "#         'polynomialfeatures__degree': [2, 3]\n",
    "#     }\n",
    "# }\n",
    "\n",
    "# # Initialize grid search for each model\n",
    "# for name, model in models.items():\n",
    "#     if name == 'Polynomial Regression (degree 2)' or name == 'Polynomial Regression (degree 3)':\n",
    "#         param_grid = param_grids['Polynomial Regression']\n",
    "#     else:\n",
    "#         param_grid = param_grids.get(name, {})\n",
    "    \n",
    "#     if param_grid:  # Skip grid search for models with no hyperparameters\n",
    "#         grid_search = GridSearchCV(model, param_grid, cv=5, scoring='neg_mean_absolute_error')\n",
    "#         grid_search.fit(X_train, y_train)\n",
    "        \n",
    "#         # Get the best model and parameters\n",
    "#         best_model = grid_search.best_estimator_\n",
    "#         best_params = grid_search.best_params_\n",
    "#     else:\n",
    "#         best_model = model\n",
    "#         best_params = None\n",
    "#         best_model.fit(X_train, y_train)\n",
    "    \n",
    "#     # Predictions\n",
    "#     y_train_pred = best_model.predict(X_train)\n",
    "#     y_test_pred = best_model.predict(X_test)\n",
    "    \n",
    "#     # Calculate Mean Absolute Error\n",
    "#     mae_train = mean_absolute_error(y_train, y_train_pred)\n",
    "#     mae_test = mean_absolute_error(y_test, y_test_pred)\n",
    "    \n",
    "#     print(f'{name} Train MAE: {mae_train:.2f}')\n",
    "#     print(f'{name} Test MAE: {mae_test:.2f}')\n",
    "#     if best_params:\n",
    "#         print(f'Best Parameters: {best_params}\\n')\n",
    "#     else:\n",
    "#         print('No grid search performed for this model.\\n')\n",
    "        \n",
    "#     -------------------------------------------------------\n",
    "    \n",
    "#     Linear Regression Train MAE: 9.81\n",
    "# Linear Regression Test MAE: 9.88\n",
    "# No grid search performed for this model.\n",
    "\n",
    "# SGD Regressor Train MAE: 9.81\n",
    "# SGD Regressor Test MAE: 9.88\n",
    "# Best Parameters: {'alpha': 0.01, 'learning_rate': 'adaptive'}\n",
    "\n",
    "# SGD Regressor LR Train MAE: 9.80\n",
    "# SGD Regressor LR Test MAE: 9.88\n",
    "# No grid search performed for this model.\n",
    "\n",
    "# Decision Tree Regressor Train MAE: 7.10\n",
    "# Decision Tree Regressor Test MAE: 10.09\n",
    "# Best Parameters: {'max_depth': None, 'min_samples_split': 10}\n",
    "\n",
    "# Regularized Decision Tree Regressor Train MAE: 8.84\n",
    "# Regularized Decision Tree Regressor Test MAE: 9.57\n",
    "# No grid search performed for this model.\n",
    "\n",
    "# Random Forest Regressor Train MAE: 7.54\n",
    "# Random Forest Regressor Test MAE: 9.46\n",
    "# Best Parameters: {'max_depth': 10, 'min_samples_split': 10, 'n_estimators': 100}\n",
    "\n",
    "# Regularized Random Forest Regressor Train MAE: 8.06\n",
    "# Regularized Random Forest Regressor Test MAE: 9.61\n",
    "# No grid search performed for this model.\n",
    "\n",
    "# Gradient Boosting Regressor Train MAE: 8.47\n",
    "# Gradient Boosting Regressor Test MAE: 9.23\n",
    "# Best Parameters: {'learning_rate': 0.1, 'max_depth': 3, 'n_estimators': 50}\n",
    "\n",
    "# Regularized Gradient Boosting Regressor Train MAE: 8.18\n",
    "# Regularized Gradient Boosting Regressor Test MAE: 9.48\n",
    "# No grid search performed for this model.\n",
    "\n",
    "# Support Vector Regressor Train MAE: 9.01\n",
    "# Support Vector Regressor Test MAE: 9.26\n",
    "# Best Parameters: {'C': 10, 'gamma': 'scale', 'kernel': 'rbf'}\n",
    "\n",
    "# Support Vector Regressor Degree Train MAE: 9.58\n",
    "# Support Vector Regressor Degree Test MAE: 9.56\n",
    "# No grid search performed for this model.\n",
    "\n",
    "# K-Nearest Neighbors Train MAE: 8.66\n",
    "# K-Nearest Neighbors Test MAE: 9.97\n",
    "# Best Parameters: {'n_neighbors': 9, 'weights': 'uniform'}\n",
    "\n",
    "# K-Nearest Neighbors n=9 Train MAE: 8.66\n",
    "# K-Nearest Neighbors n=9 Test MAE: 9.97\n",
    "# No grid search performed for this model.\n",
    "\n",
    "# Polynomial Regression (degree 2) Train MAE: 9.35\n",
    "# Polynomial Regression (degree 2) Test MAE: 9.77\n",
    "# Best Parameters: {'polynomialfeatures__degree': 2}\n",
    "\n",
    "# Polynomial Regression (degree 3) Train MAE: 9.35\n",
    "# Polynomial Regression (degree 3) Test MAE: 9.77\n",
    "# Best Parameters: {'polynomialfeatures__degree': 2}"
   ]
  },
  {
   "cell_type": "code",
   "execution_count": 55,
   "id": "78391286",
   "metadata": {
    "execution": {
     "iopub.execute_input": "2024-08-25T13:48:37.108956Z",
     "iopub.status.busy": "2024-08-25T13:48:37.107793Z",
     "iopub.status.idle": "2024-08-25T13:49:11.069243Z",
     "shell.execute_reply": "2024-08-25T13:49:11.068006Z"
    },
    "papermill": {
     "duration": 34.00395,
     "end_time": "2024-08-25T13:49:11.072040",
     "exception": false,
     "start_time": "2024-08-25T13:48:37.068090",
     "status": "completed"
    },
    "tags": []
   },
   "outputs": [
    {
     "name": "stdout",
     "output_type": "stream",
     "text": [
      "Epoch 1/30\n",
      "286/286 [==============================] - 2s 3ms/step - loss: 17.6232 - val_loss: 10.0435\n",
      "Epoch 2/30\n",
      "286/286 [==============================] - 1s 2ms/step - loss: 9.8394 - val_loss: 9.9327\n",
      "Epoch 3/30\n",
      "286/286 [==============================] - 1s 2ms/step - loss: 9.6129 - val_loss: 9.8252\n",
      "Epoch 4/30\n",
      "286/286 [==============================] - 1s 2ms/step - loss: 9.4031 - val_loss: 9.8724\n",
      "Epoch 5/30\n",
      "286/286 [==============================] - 1s 2ms/step - loss: 9.4192 - val_loss: 9.8180\n",
      "Epoch 6/30\n",
      "286/286 [==============================] - 1s 2ms/step - loss: 9.2771 - val_loss: 9.7658\n",
      "Epoch 7/30\n",
      "286/286 [==============================] - 1s 2ms/step - loss: 9.2810 - val_loss: 9.7945\n",
      "Epoch 8/30\n",
      "286/286 [==============================] - 1s 2ms/step - loss: 9.2516 - val_loss: 9.7264\n",
      "Epoch 9/30\n",
      "286/286 [==============================] - 1s 2ms/step - loss: 9.2691 - val_loss: 9.8367\n",
      "Epoch 10/30\n",
      "286/286 [==============================] - 1s 2ms/step - loss: 9.1402 - val_loss: 9.7462\n",
      "Epoch 11/30\n",
      "286/286 [==============================] - 1s 2ms/step - loss: 9.2389 - val_loss: 9.6891\n",
      "Epoch 12/30\n",
      "286/286 [==============================] - 1s 2ms/step - loss: 9.1504 - val_loss: 9.7197\n",
      "Epoch 13/30\n",
      "286/286 [==============================] - 1s 2ms/step - loss: 9.1503 - val_loss: 9.6846\n",
      "Epoch 14/30\n",
      "286/286 [==============================] - 1s 2ms/step - loss: 9.1516 - val_loss: 9.6660\n",
      "Epoch 15/30\n",
      "286/286 [==============================] - 1s 2ms/step - loss: 9.0961 - val_loss: 9.6836\n",
      "Epoch 16/30\n",
      "286/286 [==============================] - 1s 2ms/step - loss: 9.0874 - val_loss: 9.6357\n",
      "Epoch 17/30\n",
      "286/286 [==============================] - 1s 2ms/step - loss: 9.0851 - val_loss: 9.7166\n",
      "Epoch 18/30\n",
      "286/286 [==============================] - 1s 2ms/step - loss: 9.1165 - val_loss: 9.8168\n",
      "Epoch 19/30\n",
      "286/286 [==============================] - 1s 2ms/step - loss: 9.1407 - val_loss: 9.7109\n",
      "Epoch 20/30\n",
      "286/286 [==============================] - 1s 2ms/step - loss: 9.0620 - val_loss: 9.8484\n",
      "Epoch 21/30\n",
      "286/286 [==============================] - 1s 2ms/step - loss: 9.0561 - val_loss: 9.8150\n",
      "Epoch 22/30\n",
      "286/286 [==============================] - 1s 2ms/step - loss: 9.0206 - val_loss: 9.7032\n",
      "Epoch 23/30\n",
      "286/286 [==============================] - 1s 2ms/step - loss: 9.0384 - val_loss: 9.8493\n",
      "Epoch 24/30\n",
      "286/286 [==============================] - 1s 2ms/step - loss: 8.9671 - val_loss: 9.6850\n",
      "Epoch 25/30\n",
      "286/286 [==============================] - 1s 2ms/step - loss: 9.0181 - val_loss: 9.6369\n",
      "Epoch 26/30\n",
      "286/286 [==============================] - 1s 2ms/step - loss: 9.0099 - val_loss: 9.6287\n",
      "Epoch 27/30\n",
      "286/286 [==============================] - 1s 2ms/step - loss: 8.9995 - val_loss: 9.7861\n",
      "Epoch 28/30\n",
      "286/286 [==============================] - 1s 2ms/step - loss: 8.9052 - val_loss: 9.4963\n",
      "Epoch 29/30\n",
      "286/286 [==============================] - 1s 2ms/step - loss: 8.9935 - val_loss: 9.6455\n",
      "Epoch 30/30\n",
      "286/286 [==============================] - 1s 2ms/step - loss: 8.9709 - val_loss: 10.0512\n",
      "11/11 [==============================] - 0s 2ms/step\n",
      "Mean Absolute Error: 9.906825084284128\n"
     ]
    }
   ],
   "source": [
    "from sklearn.preprocessing import StandardScaler\n",
    "from tensorflow.keras.models import Sequential\n",
    "from tensorflow.keras.layers import Dense\n",
    "\n",
    "# Assuming you already have X_train, y_train, X_test, y_test defined\n",
    "\n",
    "# Standardize the data\n",
    "scaler = StandardScaler()\n",
    "X_train_scaled = scaler.fit_transform(X_train)\n",
    "X_test_scaled = scaler.transform(X_test)\n",
    "\n",
    "# Define the model\n",
    "model = Sequential([\n",
    "    Dense(64, activation='relu', input_shape=(X_train_scaled.shape[1],)),\n",
    "    Dense(32, activation='relu'),\n",
    "    Dense(1)  # Output layer for regression\n",
    "])\n",
    "\n",
    "# Compile the model with MAE loss\n",
    "model.compile(optimizer='adam', loss='mean_absolute_error')\n",
    "\n",
    "# Train the model\n",
    "history =model.fit(X_train_scaled, y_train, epochs=30, batch_size=2, validation_split=0.2)\n",
    "\n",
    "# Evaluate the model\n",
    "y_pred = model.predict(X_test_scaled)\n",
    "mae = mean_absolute_error(y_test, y_pred)\n",
    "print(f\"Mean Absolute Error: {mae}\")\n",
    "\n"
   ]
  },
  {
   "cell_type": "code",
   "execution_count": 56,
   "id": "6ef920dc",
   "metadata": {
    "execution": {
     "iopub.execute_input": "2024-08-25T13:49:11.216226Z",
     "iopub.status.busy": "2024-08-25T13:49:11.215778Z",
     "iopub.status.idle": "2024-08-25T13:49:11.644035Z",
     "shell.execute_reply": "2024-08-25T13:49:11.642845Z"
    },
    "papermill": {
     "duration": 0.503838,
     "end_time": "2024-08-25T13:49:11.647027",
     "exception": false,
     "start_time": "2024-08-25T13:49:11.143189",
     "status": "completed"
    },
    "tags": []
   },
   "outputs": [
    {
     "data": {
      "image/png": "[encoded data removed]",
      "text/plain": [
       "<Figure size 640x480 with 1 Axes>"
      ]
     },
     "metadata": {},
     "output_type": "display_data"
    }
   ],
   "source": [
    "plt.plot(history.history['loss'], label='Training Loss')\n",
    "plt.plot(history.history['val_loss'], label='Validation Loss')\n",
    "plt.title('Model Loss')\n",
    "plt.xlabel('Epoch')\n",
    "plt.ylabel('Loss')\n",
    "plt.legend(loc='upper right')\n",
    "plt.xticks(np.linspace(0, 30, 10))\n",
    "plt.yticks(np.linspace(0, 30, 21))\n",
    "plt.show()"
   ]
  },
  {
   "cell_type": "markdown",
   "id": "e11fe4f6",
   "metadata": {
    "papermill": {
     "duration": 0.072339,
     "end_time": "2024-08-25T13:49:11.792686",
     "exception": false,
     "start_time": "2024-08-25T13:49:11.720347",
     "status": "completed"
    },
    "tags": []
   },
   "source": [
    "Gradient Boosting Regressor wiht {'learning_rate': 0.1, 'max_depth': 3, 'n_estimators': 50} is the best."
   ]
  },
  {
   "cell_type": "code",
   "execution_count": 57,
   "id": "e72b025e",
   "metadata": {
    "execution": {
     "iopub.execute_input": "2024-08-25T13:49:11.938273Z",
     "iopub.status.busy": "2024-08-25T13:49:11.937680Z",
     "iopub.status.idle": "2024-08-25T13:49:11.945708Z",
     "shell.execute_reply": "2024-08-25T13:49:11.944499Z"
    },
    "papermill": {
     "duration": 0.083678,
     "end_time": "2024-08-25T13:49:11.948111",
     "exception": false,
     "start_time": "2024-08-25T13:49:11.864433",
     "status": "completed"
    },
    "tags": []
   },
   "outputs": [],
   "source": [
    "X_train=pd.concat([X_train,X_test],axis=0)\n",
    "y_train=pd.concat([y_train,y_test],axis=0)"
   ]
  },
  {
   "cell_type": "markdown",
   "id": "2ea1d87c",
   "metadata": {
    "papermill": {
     "duration": 0.073835,
     "end_time": "2024-08-25T13:49:12.093760",
     "exception": false,
     "start_time": "2024-08-25T13:49:12.019925",
     "status": "completed"
    },
    "tags": []
   },
   "source": [
    "Concat all rows that contains age to train the model.indices = X_test.index.tolist()"
   ]
  },
  {
   "cell_type": "code",
   "execution_count": 58,
   "id": "3c928bc7",
   "metadata": {
    "execution": {
     "iopub.execute_input": "2024-08-25T13:49:12.242193Z",
     "iopub.status.busy": "2024-08-25T13:49:12.241755Z",
     "iopub.status.idle": "2024-08-25T13:49:12.251074Z",
     "shell.execute_reply": "2024-08-25T13:49:12.249839Z"
    },
    "papermill": {
     "duration": 0.086508,
     "end_time": "2024-08-25T13:49:12.253818",
     "exception": false,
     "start_time": "2024-08-25T13:49:12.167310",
     "status": "completed"
    },
    "tags": []
   },
   "outputs": [],
   "source": [
    "df=pd.concat([train.drop(\"Survived\",axis=1),test],axis=0)"
   ]
  },
  {
   "cell_type": "code",
   "execution_count": 59,
   "id": "cbaefd5f",
   "metadata": {
    "execution": {
     "iopub.execute_input": "2024-08-25T13:49:12.401576Z",
     "iopub.status.busy": "2024-08-25T13:49:12.401160Z",
     "iopub.status.idle": "2024-08-25T13:49:12.418711Z",
     "shell.execute_reply": "2024-08-25T13:49:12.417489Z"
    },
    "papermill": {
     "duration": 0.094092,
     "end_time": "2024-08-25T13:49:12.421346",
     "exception": false,
     "start_time": "2024-08-25T13:49:12.327254",
     "status": "completed"
    },
    "tags": []
   },
   "outputs": [
    {
     "data": {
      "text/html": [
       "<div>\n",
       "<style scoped>\n",
       "    .dataframe tbody tr th:only-of-type {\n",
       "        vertical-align: middle;\n",
       "    }\n",
       "\n",
       "    .dataframe tbody tr th {\n",
       "        vertical-align: top;\n",
       "    }\n",
       "\n",
       "    .dataframe thead th {\n",
       "        text-align: right;\n",
       "    }\n",
       "</style>\n",
       "<table border=\"1\" class=\"dataframe\">\n",
       "  <thead>\n",
       "    <tr style=\"text-align: right;\">\n",
       "      <th></th>\n",
       "      <th>Age</th>\n",
       "      <th>Fare</th>\n",
       "      <th>Parch</th>\n",
       "      <th>Pclass</th>\n",
       "      <th>SibSp</th>\n",
       "      <th>Embarked_C</th>\n",
       "      <th>Embarked_Q</th>\n",
       "      <th>Embarked_S</th>\n",
       "      <th>Sex_female</th>\n",
       "      <th>Sex_male</th>\n",
       "    </tr>\n",
       "    <tr>\n",
       "      <th>PassengerId</th>\n",
       "      <th></th>\n",
       "      <th></th>\n",
       "      <th></th>\n",
       "      <th></th>\n",
       "      <th></th>\n",
       "      <th></th>\n",
       "      <th></th>\n",
       "      <th></th>\n",
       "      <th></th>\n",
       "      <th></th>\n",
       "    </tr>\n",
       "  </thead>\n",
       "  <tbody>\n",
       "    <tr>\n",
       "      <th>1</th>\n",
       "      <td>22.0</td>\n",
       "      <td>1.981015</td>\n",
       "      <td>0</td>\n",
       "      <td>3</td>\n",
       "      <td>1</td>\n",
       "      <td>0</td>\n",
       "      <td>0</td>\n",
       "      <td>1</td>\n",
       "      <td>0</td>\n",
       "      <td>1</td>\n",
       "    </tr>\n",
       "    <tr>\n",
       "      <th>2</th>\n",
       "      <td>38.0</td>\n",
       "      <td>4.266663</td>\n",
       "      <td>0</td>\n",
       "      <td>1</td>\n",
       "      <td>1</td>\n",
       "      <td>1</td>\n",
       "      <td>0</td>\n",
       "      <td>0</td>\n",
       "      <td>1</td>\n",
       "      <td>0</td>\n",
       "    </tr>\n",
       "    <tr>\n",
       "      <th>3</th>\n",
       "      <td>26.0</td>\n",
       "      <td>2.070035</td>\n",
       "      <td>0</td>\n",
       "      <td>3</td>\n",
       "      <td>0</td>\n",
       "      <td>0</td>\n",
       "      <td>0</td>\n",
       "      <td>1</td>\n",
       "      <td>1</td>\n",
       "      <td>0</td>\n",
       "    </tr>\n",
       "    <tr>\n",
       "      <th>4</th>\n",
       "      <td>35.0</td>\n",
       "      <td>3.972179</td>\n",
       "      <td>0</td>\n",
       "      <td>1</td>\n",
       "      <td>1</td>\n",
       "      <td>0</td>\n",
       "      <td>0</td>\n",
       "      <td>1</td>\n",
       "      <td>1</td>\n",
       "      <td>0</td>\n",
       "    </tr>\n",
       "    <tr>\n",
       "      <th>5</th>\n",
       "      <td>35.0</td>\n",
       "      <td>2.085685</td>\n",
       "      <td>0</td>\n",
       "      <td>3</td>\n",
       "      <td>0</td>\n",
       "      <td>0</td>\n",
       "      <td>0</td>\n",
       "      <td>1</td>\n",
       "      <td>0</td>\n",
       "      <td>1</td>\n",
       "    </tr>\n",
       "  </tbody>\n",
       "</table>\n",
       "</div>"
      ],
      "text/plain": [
       "              Age      Fare  Parch  Pclass  SibSp  Embarked_C  Embarked_Q  \\\n",
       "PassengerId                                                                 \n",
       "1            22.0  1.981015      0       3      1           0           0   \n",
       "2            38.0  4.266663      0       1      1           1           0   \n",
       "3            26.0  2.070035      0       3      0           0           0   \n",
       "4            35.0  3.972179      0       1      1           0           0   \n",
       "5            35.0  2.085685      0       3      0           0           0   \n",
       "\n",
       "             Embarked_S  Sex_female  Sex_male  \n",
       "PassengerId                                    \n",
       "1                     1           0         1  \n",
       "2                     0           1         0  \n",
       "3                     1           1         0  \n",
       "4                     1           1         0  \n",
       "5                     1           0         1  "
      ]
     },
     "execution_count": 59,
     "metadata": {},
     "output_type": "execute_result"
    }
   ],
   "source": [
    "df.head()"
   ]
  },
  {
   "cell_type": "code",
   "execution_count": 60,
   "id": "3b07b99a",
   "metadata": {
    "execution": {
     "iopub.execute_input": "2024-08-25T13:49:12.569226Z",
     "iopub.status.busy": "2024-08-25T13:49:12.568785Z",
     "iopub.status.idle": "2024-08-25T13:49:12.579489Z",
     "shell.execute_reply": "2024-08-25T13:49:12.578234Z"
    },
    "papermill": {
     "duration": 0.087382,
     "end_time": "2024-08-25T13:49:12.582219",
     "exception": false,
     "start_time": "2024-08-25T13:49:12.494837",
     "status": "completed"
    },
    "tags": []
   },
   "outputs": [],
   "source": [
    "# Select rows with null values in any feature\n",
    "rows_with_nulls = df[df.isnull().any(axis=1)]\n",
    "\n",
    "# Create the data DataFrame without the 'Age' column\n",
    "X_test = rows_with_nulls.drop(columns=['Age'])\n",
    "\n",
    "# Create the target Series containing 'Age' values from rows with nulls\n",
    "y_test = rows_with_nulls['Age']"
   ]
  },
  {
   "cell_type": "code",
   "execution_count": 61,
   "id": "1b638509",
   "metadata": {
    "execution": {
     "iopub.execute_input": "2024-08-25T13:49:12.731384Z",
     "iopub.status.busy": "2024-08-25T13:49:12.729896Z",
     "iopub.status.idle": "2024-08-25T13:49:12.745034Z",
     "shell.execute_reply": "2024-08-25T13:49:12.744001Z"
    },
    "papermill": {
     "duration": 0.092945,
     "end_time": "2024-08-25T13:49:12.747474",
     "exception": false,
     "start_time": "2024-08-25T13:49:12.654529",
     "status": "completed"
    },
    "tags": []
   },
   "outputs": [
    {
     "data": {
      "text/html": [
       "<div>\n",
       "<style scoped>\n",
       "    .dataframe tbody tr th:only-of-type {\n",
       "        vertical-align: middle;\n",
       "    }\n",
       "\n",
       "    .dataframe tbody tr th {\n",
       "        vertical-align: top;\n",
       "    }\n",
       "\n",
       "    .dataframe thead th {\n",
       "        text-align: right;\n",
       "    }\n",
       "</style>\n",
       "<table border=\"1\" class=\"dataframe\">\n",
       "  <thead>\n",
       "    <tr style=\"text-align: right;\">\n",
       "      <th></th>\n",
       "      <th>Fare</th>\n",
       "      <th>Parch</th>\n",
       "      <th>Pclass</th>\n",
       "      <th>SibSp</th>\n",
       "      <th>Embarked_C</th>\n",
       "      <th>Embarked_Q</th>\n",
       "      <th>Embarked_S</th>\n",
       "      <th>Sex_female</th>\n",
       "      <th>Sex_male</th>\n",
       "    </tr>\n",
       "    <tr>\n",
       "      <th>PassengerId</th>\n",
       "      <th></th>\n",
       "      <th></th>\n",
       "      <th></th>\n",
       "      <th></th>\n",
       "      <th></th>\n",
       "      <th></th>\n",
       "      <th></th>\n",
       "      <th></th>\n",
       "      <th></th>\n",
       "    </tr>\n",
       "  </thead>\n",
       "  <tbody>\n",
       "    <tr>\n",
       "      <th>6</th>\n",
       "      <td>2.135160</td>\n",
       "      <td>0</td>\n",
       "      <td>3</td>\n",
       "      <td>0</td>\n",
       "      <td>0</td>\n",
       "      <td>1</td>\n",
       "      <td>0</td>\n",
       "      <td>0</td>\n",
       "      <td>1</td>\n",
       "    </tr>\n",
       "    <tr>\n",
       "      <th>18</th>\n",
       "      <td>2.564957</td>\n",
       "      <td>0</td>\n",
       "      <td>2</td>\n",
       "      <td>0</td>\n",
       "      <td>0</td>\n",
       "      <td>0</td>\n",
       "      <td>1</td>\n",
       "      <td>0</td>\n",
       "      <td>1</td>\n",
       "    </tr>\n",
       "    <tr>\n",
       "      <th>20</th>\n",
       "      <td>1.977561</td>\n",
       "      <td>0</td>\n",
       "      <td>3</td>\n",
       "      <td>0</td>\n",
       "      <td>1</td>\n",
       "      <td>0</td>\n",
       "      <td>0</td>\n",
       "      <td>1</td>\n",
       "      <td>0</td>\n",
       "    </tr>\n",
       "    <tr>\n",
       "      <th>27</th>\n",
       "      <td>1.977561</td>\n",
       "      <td>0</td>\n",
       "      <td>3</td>\n",
       "      <td>0</td>\n",
       "      <td>1</td>\n",
       "      <td>0</td>\n",
       "      <td>0</td>\n",
       "      <td>0</td>\n",
       "      <td>1</td>\n",
       "    </tr>\n",
       "    <tr>\n",
       "      <th>29</th>\n",
       "      <td>2.064239</td>\n",
       "      <td>0</td>\n",
       "      <td>3</td>\n",
       "      <td>0</td>\n",
       "      <td>0</td>\n",
       "      <td>1</td>\n",
       "      <td>0</td>\n",
       "      <td>1</td>\n",
       "      <td>0</td>\n",
       "    </tr>\n",
       "  </tbody>\n",
       "</table>\n",
       "</div>"
      ],
      "text/plain": [
       "                 Fare  Parch  Pclass  SibSp  Embarked_C  Embarked_Q  \\\n",
       "PassengerId                                                           \n",
       "6            2.135160      0       3      0           0           1   \n",
       "18           2.564957      0       2      0           0           0   \n",
       "20           1.977561      0       3      0           1           0   \n",
       "27           1.977561      0       3      0           1           0   \n",
       "29           2.064239      0       3      0           0           1   \n",
       "\n",
       "             Embarked_S  Sex_female  Sex_male  \n",
       "PassengerId                                    \n",
       "6                     0           0         1  \n",
       "18                    1           0         1  \n",
       "20                    0           1         0  \n",
       "27                    0           0         1  \n",
       "29                    0           1         0  "
      ]
     },
     "execution_count": 61,
     "metadata": {},
     "output_type": "execute_result"
    }
   ],
   "source": [
    "X_test.head()"
   ]
  },
  {
   "cell_type": "code",
   "execution_count": 62,
   "id": "6a8d1775",
   "metadata": {
    "execution": {
     "iopub.execute_input": "2024-08-25T13:49:12.895081Z",
     "iopub.status.busy": "2024-08-25T13:49:12.894627Z",
     "iopub.status.idle": "2024-08-25T13:49:12.903687Z",
     "shell.execute_reply": "2024-08-25T13:49:12.902408Z"
    },
    "papermill": {
     "duration": 0.085355,
     "end_time": "2024-08-25T13:49:12.906094",
     "exception": false,
     "start_time": "2024-08-25T13:49:12.820739",
     "status": "completed"
    },
    "tags": []
   },
   "outputs": [
    {
     "data": {
      "text/plain": [
       "PassengerId\n",
       "6    NaN\n",
       "18   NaN\n",
       "20   NaN\n",
       "27   NaN\n",
       "29   NaN\n",
       "Name: Age, dtype: float64"
      ]
     },
     "execution_count": 62,
     "metadata": {},
     "output_type": "execute_result"
    }
   ],
   "source": [
    "y_test.head()"
   ]
  },
  {
   "cell_type": "code",
   "execution_count": 63,
   "id": "e366af01",
   "metadata": {
    "execution": {
     "iopub.execute_input": "2024-08-25T13:49:13.052731Z",
     "iopub.status.busy": "2024-08-25T13:49:13.052273Z",
     "iopub.status.idle": "2024-08-25T13:49:13.060017Z",
     "shell.execute_reply": "2024-08-25T13:49:13.058815Z"
    },
    "papermill": {
     "duration": 0.083967,
     "end_time": "2024-08-25T13:49:13.062545",
     "exception": false,
     "start_time": "2024-08-25T13:49:12.978578",
     "status": "completed"
    },
    "tags": []
   },
   "outputs": [
    {
     "data": {
      "text/plain": [
       "(263, 9)"
      ]
     },
     "execution_count": 63,
     "metadata": {},
     "output_type": "execute_result"
    }
   ],
   "source": [
    "X_test.shape"
   ]
  },
  {
   "cell_type": "code",
   "execution_count": 64,
   "id": "c78c11be",
   "metadata": {
    "execution": {
     "iopub.execute_input": "2024-08-25T13:49:13.211244Z",
     "iopub.status.busy": "2024-08-25T13:49:13.210807Z",
     "iopub.status.idle": "2024-08-25T13:49:13.229349Z",
     "shell.execute_reply": "2024-08-25T13:49:13.228075Z"
    },
    "papermill": {
     "duration": 0.095918,
     "end_time": "2024-08-25T13:49:13.231839",
     "exception": false,
     "start_time": "2024-08-25T13:49:13.135921",
     "status": "completed"
    },
    "tags": []
   },
   "outputs": [
    {
     "data": {
      "text/html": [
       "<div>\n",
       "<style scoped>\n",
       "    .dataframe tbody tr th:only-of-type {\n",
       "        vertical-align: middle;\n",
       "    }\n",
       "\n",
       "    .dataframe tbody tr th {\n",
       "        vertical-align: top;\n",
       "    }\n",
       "\n",
       "    .dataframe thead th {\n",
       "        text-align: right;\n",
       "    }\n",
       "</style>\n",
       "<table border=\"1\" class=\"dataframe\">\n",
       "  <thead>\n",
       "    <tr style=\"text-align: right;\">\n",
       "      <th></th>\n",
       "      <th>Embarked_C</th>\n",
       "      <th>Embarked_Q</th>\n",
       "      <th>Embarked_S</th>\n",
       "      <th>Fare</th>\n",
       "      <th>Parch</th>\n",
       "      <th>Pclass</th>\n",
       "      <th>Sex_female</th>\n",
       "      <th>Sex_male</th>\n",
       "      <th>SibSp</th>\n",
       "    </tr>\n",
       "    <tr>\n",
       "      <th>PassengerId</th>\n",
       "      <th></th>\n",
       "      <th></th>\n",
       "      <th></th>\n",
       "      <th></th>\n",
       "      <th></th>\n",
       "      <th></th>\n",
       "      <th></th>\n",
       "      <th></th>\n",
       "      <th></th>\n",
       "    </tr>\n",
       "  </thead>\n",
       "  <tbody>\n",
       "    <tr>\n",
       "      <th>6</th>\n",
       "      <td>0</td>\n",
       "      <td>1</td>\n",
       "      <td>0</td>\n",
       "      <td>2.135160</td>\n",
       "      <td>0</td>\n",
       "      <td>3</td>\n",
       "      <td>0</td>\n",
       "      <td>1</td>\n",
       "      <td>0</td>\n",
       "    </tr>\n",
       "    <tr>\n",
       "      <th>18</th>\n",
       "      <td>0</td>\n",
       "      <td>0</td>\n",
       "      <td>1</td>\n",
       "      <td>2.564957</td>\n",
       "      <td>0</td>\n",
       "      <td>2</td>\n",
       "      <td>0</td>\n",
       "      <td>1</td>\n",
       "      <td>0</td>\n",
       "    </tr>\n",
       "    <tr>\n",
       "      <th>20</th>\n",
       "      <td>1</td>\n",
       "      <td>0</td>\n",
       "      <td>0</td>\n",
       "      <td>1.977561</td>\n",
       "      <td>0</td>\n",
       "      <td>3</td>\n",
       "      <td>1</td>\n",
       "      <td>0</td>\n",
       "      <td>0</td>\n",
       "    </tr>\n",
       "    <tr>\n",
       "      <th>27</th>\n",
       "      <td>1</td>\n",
       "      <td>0</td>\n",
       "      <td>0</td>\n",
       "      <td>1.977561</td>\n",
       "      <td>0</td>\n",
       "      <td>3</td>\n",
       "      <td>0</td>\n",
       "      <td>1</td>\n",
       "      <td>0</td>\n",
       "    </tr>\n",
       "    <tr>\n",
       "      <th>29</th>\n",
       "      <td>0</td>\n",
       "      <td>1</td>\n",
       "      <td>0</td>\n",
       "      <td>2.064239</td>\n",
       "      <td>0</td>\n",
       "      <td>3</td>\n",
       "      <td>1</td>\n",
       "      <td>0</td>\n",
       "      <td>0</td>\n",
       "    </tr>\n",
       "  </tbody>\n",
       "</table>\n",
       "</div>"
      ],
      "text/plain": [
       "             Embarked_C  Embarked_Q  Embarked_S      Fare  Parch  Pclass  \\\n",
       "PassengerId                                                                \n",
       "6                     0           1           0  2.135160      0       3   \n",
       "18                    0           0           1  2.564957      0       2   \n",
       "20                    1           0           0  1.977561      0       3   \n",
       "27                    1           0           0  1.977561      0       3   \n",
       "29                    0           1           0  2.064239      0       3   \n",
       "\n",
       "             Sex_female  Sex_male  SibSp  \n",
       "PassengerId                               \n",
       "6                     0         1      0  \n",
       "18                    0         1      0  \n",
       "20                    1         0      0  \n",
       "27                    0         1      0  \n",
       "29                    1         0      0  "
      ]
     },
     "execution_count": 64,
     "metadata": {},
     "output_type": "execute_result"
    }
   ],
   "source": [
    "X_train=X_train[sorted(X_train.columns)]\n",
    "X_test=X_test[sorted(X_test.columns)]\n",
    "X_test.head()"
   ]
  },
  {
   "cell_type": "code",
   "execution_count": 65,
   "id": "7340fdee",
   "metadata": {
    "execution": {
     "iopub.execute_input": "2024-08-25T13:49:13.381793Z",
     "iopub.status.busy": "2024-08-25T13:49:13.381353Z",
     "iopub.status.idle": "2024-08-25T13:49:13.450733Z",
     "shell.execute_reply": "2024-08-25T13:49:13.449563Z"
    },
    "papermill": {
     "duration": 0.147653,
     "end_time": "2024-08-25T13:49:13.453654",
     "exception": false,
     "start_time": "2024-08-25T13:49:13.306001",
     "status": "completed"
    },
    "tags": []
   },
   "outputs": [],
   "source": [
    "regressor =GradientBoostingRegressor(learning_rate= 0.1,max_depth= 3,n_estimators= 50)\n",
    "regressor.fit(X_train, y_train)\n",
    "y_predict=regressor.predict(X_test)"
   ]
  },
  {
   "cell_type": "code",
   "execution_count": 66,
   "id": "78927619",
   "metadata": {
    "execution": {
     "iopub.execute_input": "2024-08-25T13:49:13.605508Z",
     "iopub.status.busy": "2024-08-25T13:49:13.605086Z",
     "iopub.status.idle": "2024-08-25T13:49:13.612626Z",
     "shell.execute_reply": "2024-08-25T13:49:13.611494Z"
    },
    "papermill": {
     "duration": 0.0871,
     "end_time": "2024-08-25T13:49:13.615027",
     "exception": false,
     "start_time": "2024-08-25T13:49:13.527927",
     "status": "completed"
    },
    "tags": []
   },
   "outputs": [
    {
     "data": {
      "text/plain": [
       "array([28.76975291, 32.70671505, 25.36064079, 27.3180035 , 25.64472825])"
      ]
     },
     "execution_count": 66,
     "metadata": {},
     "output_type": "execute_result"
    }
   ],
   "source": [
    "y_predict[0:5]"
   ]
  },
  {
   "cell_type": "code",
   "execution_count": 67,
   "id": "e988f710",
   "metadata": {
    "execution": {
     "iopub.execute_input": "2024-08-25T13:49:13.766565Z",
     "iopub.status.busy": "2024-08-25T13:49:13.766144Z",
     "iopub.status.idle": "2024-08-25T13:49:13.771273Z",
     "shell.execute_reply": "2024-08-25T13:49:13.770196Z"
    },
    "papermill": {
     "duration": 0.082751,
     "end_time": "2024-08-25T13:49:13.773818",
     "exception": false,
     "start_time": "2024-08-25T13:49:13.691067",
     "status": "completed"
    },
    "tags": []
   },
   "outputs": [],
   "source": [
    "indices = X_test.index.tolist()"
   ]
  },
  {
   "cell_type": "code",
   "execution_count": 68,
   "id": "6afc6fb7",
   "metadata": {
    "execution": {
     "iopub.execute_input": "2024-08-25T13:49:13.923092Z",
     "iopub.status.busy": "2024-08-25T13:49:13.922680Z",
     "iopub.status.idle": "2024-08-25T13:49:13.937174Z",
     "shell.execute_reply": "2024-08-25T13:49:13.935817Z"
    },
    "papermill": {
     "duration": 0.091554,
     "end_time": "2024-08-25T13:49:13.939863",
     "exception": false,
     "start_time": "2024-08-25T13:49:13.848309",
     "status": "completed"
    },
    "tags": []
   },
   "outputs": [],
   "source": [
    "for index, age in zip(indices, y_predict):\n",
    "        df.at[index, 'Age'] = age"
   ]
  },
  {
   "cell_type": "code",
   "execution_count": 69,
   "id": "db9788ed",
   "metadata": {
    "execution": {
     "iopub.execute_input": "2024-08-25T13:49:14.090142Z",
     "iopub.status.busy": "2024-08-25T13:49:14.089646Z",
     "iopub.status.idle": "2024-08-25T13:49:14.110881Z",
     "shell.execute_reply": "2024-08-25T13:49:14.109470Z"
    },
    "papermill": {
     "duration": 0.099217,
     "end_time": "2024-08-25T13:49:14.113478",
     "exception": false,
     "start_time": "2024-08-25T13:49:14.014261",
     "status": "completed"
    },
    "tags": []
   },
   "outputs": [
    {
     "data": {
      "text/html": [
       "<div>\n",
       "<style scoped>\n",
       "    .dataframe tbody tr th:only-of-type {\n",
       "        vertical-align: middle;\n",
       "    }\n",
       "\n",
       "    .dataframe tbody tr th {\n",
       "        vertical-align: top;\n",
       "    }\n",
       "\n",
       "    .dataframe thead th {\n",
       "        text-align: right;\n",
       "    }\n",
       "</style>\n",
       "<table border=\"1\" class=\"dataframe\">\n",
       "  <thead>\n",
       "    <tr style=\"text-align: right;\">\n",
       "      <th></th>\n",
       "      <th>Age</th>\n",
       "      <th>Fare</th>\n",
       "      <th>Parch</th>\n",
       "      <th>Pclass</th>\n",
       "      <th>SibSp</th>\n",
       "      <th>Embarked_C</th>\n",
       "      <th>Embarked_Q</th>\n",
       "      <th>Embarked_S</th>\n",
       "      <th>Sex_female</th>\n",
       "      <th>Sex_male</th>\n",
       "    </tr>\n",
       "    <tr>\n",
       "      <th>PassengerId</th>\n",
       "      <th></th>\n",
       "      <th></th>\n",
       "      <th></th>\n",
       "      <th></th>\n",
       "      <th></th>\n",
       "      <th></th>\n",
       "      <th></th>\n",
       "      <th></th>\n",
       "      <th></th>\n",
       "      <th></th>\n",
       "    </tr>\n",
       "  </thead>\n",
       "  <tbody>\n",
       "    <tr>\n",
       "      <th>6</th>\n",
       "      <td>28.769753</td>\n",
       "      <td>2.135160</td>\n",
       "      <td>0</td>\n",
       "      <td>3</td>\n",
       "      <td>0</td>\n",
       "      <td>0</td>\n",
       "      <td>1</td>\n",
       "      <td>0</td>\n",
       "      <td>0</td>\n",
       "      <td>1</td>\n",
       "    </tr>\n",
       "    <tr>\n",
       "      <th>18</th>\n",
       "      <td>32.706715</td>\n",
       "      <td>2.564957</td>\n",
       "      <td>0</td>\n",
       "      <td>2</td>\n",
       "      <td>0</td>\n",
       "      <td>0</td>\n",
       "      <td>0</td>\n",
       "      <td>1</td>\n",
       "      <td>0</td>\n",
       "      <td>1</td>\n",
       "    </tr>\n",
       "    <tr>\n",
       "      <th>20</th>\n",
       "      <td>25.360641</td>\n",
       "      <td>1.977561</td>\n",
       "      <td>0</td>\n",
       "      <td>3</td>\n",
       "      <td>0</td>\n",
       "      <td>1</td>\n",
       "      <td>0</td>\n",
       "      <td>0</td>\n",
       "      <td>1</td>\n",
       "      <td>0</td>\n",
       "    </tr>\n",
       "    <tr>\n",
       "      <th>27</th>\n",
       "      <td>27.318003</td>\n",
       "      <td>1.977561</td>\n",
       "      <td>0</td>\n",
       "      <td>3</td>\n",
       "      <td>0</td>\n",
       "      <td>1</td>\n",
       "      <td>0</td>\n",
       "      <td>0</td>\n",
       "      <td>0</td>\n",
       "      <td>1</td>\n",
       "    </tr>\n",
       "    <tr>\n",
       "      <th>29</th>\n",
       "      <td>25.644728</td>\n",
       "      <td>2.064239</td>\n",
       "      <td>0</td>\n",
       "      <td>3</td>\n",
       "      <td>0</td>\n",
       "      <td>0</td>\n",
       "      <td>1</td>\n",
       "      <td>0</td>\n",
       "      <td>1</td>\n",
       "      <td>0</td>\n",
       "    </tr>\n",
       "    <tr>\n",
       "      <th>...</th>\n",
       "      <td>...</td>\n",
       "      <td>...</td>\n",
       "      <td>...</td>\n",
       "      <td>...</td>\n",
       "      <td>...</td>\n",
       "      <td>...</td>\n",
       "      <td>...</td>\n",
       "      <td>...</td>\n",
       "      <td>...</td>\n",
       "      <td>...</td>\n",
       "    </tr>\n",
       "    <tr>\n",
       "      <th>1300</th>\n",
       "      <td>25.758230</td>\n",
       "      <td>2.043931</td>\n",
       "      <td>0</td>\n",
       "      <td>3</td>\n",
       "      <td>0</td>\n",
       "      <td>0</td>\n",
       "      <td>1</td>\n",
       "      <td>0</td>\n",
       "      <td>1</td>\n",
       "      <td>0</td>\n",
       "    </tr>\n",
       "    <tr>\n",
       "      <th>1302</th>\n",
       "      <td>26.809101</td>\n",
       "      <td>2.047706</td>\n",
       "      <td>0</td>\n",
       "      <td>3</td>\n",
       "      <td>0</td>\n",
       "      <td>0</td>\n",
       "      <td>1</td>\n",
       "      <td>0</td>\n",
       "      <td>1</td>\n",
       "      <td>0</td>\n",
       "    </tr>\n",
       "    <tr>\n",
       "      <th>1305</th>\n",
       "      <td>27.901037</td>\n",
       "      <td>2.085685</td>\n",
       "      <td>0</td>\n",
       "      <td>3</td>\n",
       "      <td>0</td>\n",
       "      <td>0</td>\n",
       "      <td>0</td>\n",
       "      <td>1</td>\n",
       "      <td>0</td>\n",
       "      <td>1</td>\n",
       "    </tr>\n",
       "    <tr>\n",
       "      <th>1308</th>\n",
       "      <td>27.901037</td>\n",
       "      <td>2.085685</td>\n",
       "      <td>0</td>\n",
       "      <td>3</td>\n",
       "      <td>0</td>\n",
       "      <td>0</td>\n",
       "      <td>0</td>\n",
       "      <td>1</td>\n",
       "      <td>0</td>\n",
       "      <td>1</td>\n",
       "    </tr>\n",
       "    <tr>\n",
       "      <th>1309</th>\n",
       "      <td>17.397683</td>\n",
       "      <td>3.107202</td>\n",
       "      <td>1</td>\n",
       "      <td>3</td>\n",
       "      <td>1</td>\n",
       "      <td>1</td>\n",
       "      <td>0</td>\n",
       "      <td>0</td>\n",
       "      <td>0</td>\n",
       "      <td>1</td>\n",
       "    </tr>\n",
       "  </tbody>\n",
       "</table>\n",
       "<p>263 rows × 10 columns</p>\n",
       "</div>"
      ],
      "text/plain": [
       "                   Age      Fare  Parch  Pclass  SibSp  Embarked_C  \\\n",
       "PassengerId                                                          \n",
       "6            28.769753  2.135160      0       3      0           0   \n",
       "18           32.706715  2.564957      0       2      0           0   \n",
       "20           25.360641  1.977561      0       3      0           1   \n",
       "27           27.318003  1.977561      0       3      0           1   \n",
       "29           25.644728  2.064239      0       3      0           0   \n",
       "...                ...       ...    ...     ...    ...         ...   \n",
       "1300         25.758230  2.043931      0       3      0           0   \n",
       "1302         26.809101  2.047706      0       3      0           0   \n",
       "1305         27.901037  2.085685      0       3      0           0   \n",
       "1308         27.901037  2.085685      0       3      0           0   \n",
       "1309         17.397683  3.107202      1       3      1           1   \n",
       "\n",
       "             Embarked_Q  Embarked_S  Sex_female  Sex_male  \n",
       "PassengerId                                                \n",
       "6                     1           0           0         1  \n",
       "18                    0           1           0         1  \n",
       "20                    0           0           1         0  \n",
       "27                    0           0           0         1  \n",
       "29                    1           0           1         0  \n",
       "...                 ...         ...         ...       ...  \n",
       "1300                  1           0           1         0  \n",
       "1302                  1           0           1         0  \n",
       "1305                  0           1           0         1  \n",
       "1308                  0           1           0         1  \n",
       "1309                  0           0           0         1  \n",
       "\n",
       "[263 rows x 10 columns]"
      ]
     },
     "execution_count": 69,
     "metadata": {},
     "output_type": "execute_result"
    }
   ],
   "source": [
    "df.loc[indices]"
   ]
  },
  {
   "cell_type": "code",
   "execution_count": 70,
   "id": "b40453b6",
   "metadata": {
    "execution": {
     "iopub.execute_input": "2024-08-25T13:49:14.263067Z",
     "iopub.status.busy": "2024-08-25T13:49:14.262594Z",
     "iopub.status.idle": "2024-08-25T13:49:14.477459Z",
     "shell.execute_reply": "2024-08-25T13:49:14.476202Z"
    },
    "papermill": {
     "duration": 0.292574,
     "end_time": "2024-08-25T13:49:14.480032",
     "exception": false,
     "start_time": "2024-08-25T13:49:14.187458",
     "status": "completed"
    },
    "tags": []
   },
   "outputs": [
    {
     "data": {
      "image/png": "[encoded data removed]",
      "text/plain": [
       "<Figure size 640x480 with 1 Axes>"
      ]
     },
     "metadata": {},
     "output_type": "display_data"
    }
   ],
   "source": [
    "plt.boxplot(df['Age'])\n",
    "plt.show()"
   ]
  },
  {
   "cell_type": "code",
   "execution_count": 71,
   "id": "63e72db1",
   "metadata": {
    "execution": {
     "iopub.execute_input": "2024-08-25T13:49:14.635408Z",
     "iopub.status.busy": "2024-08-25T13:49:14.634940Z",
     "iopub.status.idle": "2024-08-25T13:49:14.910779Z",
     "shell.execute_reply": "2024-08-25T13:49:14.909404Z"
    },
    "papermill": {
     "duration": 0.357063,
     "end_time": "2024-08-25T13:49:14.913348",
     "exception": false,
     "start_time": "2024-08-25T13:49:14.556285",
     "status": "completed"
    },
    "tags": []
   },
   "outputs": [
    {
     "data": {
      "image/png": "[encoded data removed]",
      "text/plain": [
       "<Figure size 640x480 with 1 Axes>"
      ]
     },
     "metadata": {},
     "output_type": "display_data"
    }
   ],
   "source": [
    "plt.hist(df['Age'])\n",
    "plt.show()"
   ]
  },
  {
   "cell_type": "code",
   "execution_count": 72,
   "id": "4e677a25",
   "metadata": {
    "execution": {
     "iopub.execute_input": "2024-08-25T13:49:15.065513Z",
     "iopub.status.busy": "2024-08-25T13:49:15.065006Z",
     "iopub.status.idle": "2024-08-25T13:49:15.078712Z",
     "shell.execute_reply": "2024-08-25T13:49:15.077460Z"
    },
    "papermill": {
     "duration": 0.093573,
     "end_time": "2024-08-25T13:49:15.081923",
     "exception": false,
     "start_time": "2024-08-25T13:49:14.988350",
     "status": "completed"
    },
    "tags": []
   },
   "outputs": [
    {
     "data": {
      "text/plain": [
       "40"
      ]
     },
     "execution_count": 72,
     "metadata": {},
     "output_type": "execute_result"
    }
   ],
   "source": [
    "Q1 = df['Age'].quantile(0.25)\n",
    "Q3 = df['Age'].quantile(0.75)\n",
    "IQR = Q3 - Q1\n",
    "outliers = df[(df['Age'] < Q1 - 1.5 * IQR) | (df['Age'] > Q3 + 1.5 * IQR)]\n",
    "outliers.shape[0]"
   ]
  },
  {
   "cell_type": "code",
   "execution_count": 73,
   "id": "77994dde",
   "metadata": {
    "execution": {
     "iopub.execute_input": "2024-08-25T13:49:15.234037Z",
     "iopub.status.busy": "2024-08-25T13:49:15.233567Z",
     "iopub.status.idle": "2024-08-25T13:49:15.241734Z",
     "shell.execute_reply": "2024-08-25T13:49:15.240246Z"
    },
    "papermill": {
     "duration": 0.087065,
     "end_time": "2024-08-25T13:49:15.244472",
     "exception": false,
     "start_time": "2024-08-25T13:49:15.157407",
     "status": "completed"
    },
    "tags": []
   },
   "outputs": [],
   "source": [
    "df['Age'] = np.where(df['Age'] > Q3 + 1.5 * IQR, Q3 + 1.5 * IQR, df['Age'])\n",
    "df['Age'] = np.where(df['Age'] < Q1 - 1.5 * IQR, Q1 - 1.5 * IQR, df['Age'])"
   ]
  },
  {
   "cell_type": "code",
   "execution_count": 74,
   "id": "96e028b2",
   "metadata": {
    "execution": {
     "iopub.execute_input": "2024-08-25T13:49:15.398723Z",
     "iopub.status.busy": "2024-08-25T13:49:15.398301Z",
     "iopub.status.idle": "2024-08-25T13:49:15.406132Z",
     "shell.execute_reply": "2024-08-25T13:49:15.404931Z"
    },
    "papermill": {
     "duration": 0.088582,
     "end_time": "2024-08-25T13:49:15.408659",
     "exception": false,
     "start_time": "2024-08-25T13:49:15.320077",
     "status": "completed"
    },
    "tags": []
   },
   "outputs": [],
   "source": [
    "mean = df['Age'].mean()\n",
    "std_dev = df['Age'].std()\n",
    "\n",
    "# Normalize the 'Age' column\n",
    "df['Age'] = (df['Age'] - mean) / std_dev"
   ]
  },
  {
   "cell_type": "code",
   "execution_count": 75,
   "id": "3f5417ae",
   "metadata": {
    "execution": {
     "iopub.execute_input": "2024-08-25T13:49:15.562723Z",
     "iopub.status.busy": "2024-08-25T13:49:15.562302Z",
     "iopub.status.idle": "2024-08-25T13:49:15.760708Z",
     "shell.execute_reply": "2024-08-25T13:49:15.759516Z"
    },
    "papermill": {
     "duration": 0.278075,
     "end_time": "2024-08-25T13:49:15.763320",
     "exception": false,
     "start_time": "2024-08-25T13:49:15.485245",
     "status": "completed"
    },
    "tags": []
   },
   "outputs": [
    {
     "data": {
      "image/png": "[encoded data removed]",
      "text/plain": [
       "<Figure size 640x480 with 1 Axes>"
      ]
     },
     "metadata": {},
     "output_type": "display_data"
    }
   ],
   "source": [
    "plt.boxplot(df['Age'])\n",
    "plt.show()"
   ]
  },
  {
   "cell_type": "code",
   "execution_count": 76,
   "id": "5e73215e",
   "metadata": {
    "execution": {
     "iopub.execute_input": "2024-08-25T13:49:15.917894Z",
     "iopub.status.busy": "2024-08-25T13:49:15.916958Z",
     "iopub.status.idle": "2024-08-25T13:49:16.176702Z",
     "shell.execute_reply": "2024-08-25T13:49:16.175415Z"
    },
    "papermill": {
     "duration": 0.33929,
     "end_time": "2024-08-25T13:49:16.179582",
     "exception": false,
     "start_time": "2024-08-25T13:49:15.840292",
     "status": "completed"
    },
    "tags": []
   },
   "outputs": [
    {
     "data": {
      "image/png": "[encoded data removed]",
      "text/plain": [
       "<Figure size 640x480 with 1 Axes>"
      ]
     },
     "metadata": {},
     "output_type": "display_data"
    }
   ],
   "source": [
    "plt.hist(df['Age'])\n",
    "plt.show()"
   ]
  },
  {
   "cell_type": "code",
   "execution_count": 77,
   "id": "12c6e5ea",
   "metadata": {
    "execution": {
     "iopub.execute_input": "2024-08-25T13:49:16.334715Z",
     "iopub.status.busy": "2024-08-25T13:49:16.334252Z",
     "iopub.status.idle": "2024-08-25T13:49:16.348096Z",
     "shell.execute_reply": "2024-08-25T13:49:16.346964Z"
    },
    "papermill": {
     "duration": 0.094813,
     "end_time": "2024-08-25T13:49:16.350642",
     "exception": false,
     "start_time": "2024-08-25T13:49:16.255829",
     "status": "completed"
    },
    "tags": []
   },
   "outputs": [
    {
     "data": {
      "text/plain": [
       "0"
      ]
     },
     "execution_count": 77,
     "metadata": {},
     "output_type": "execute_result"
    }
   ],
   "source": [
    "Q1 = df['Age'].quantile(0.25)\n",
    "Q3 = df['Age'].quantile(0.75)\n",
    "IQR = Q3 - Q1\n",
    "outliers = df[(df['Age'] < Q1 - 1.5 * IQR) | (df['Age'] > Q3 + 1.5 * IQR)]\n",
    "outliers.shape[0]"
   ]
  },
  {
   "cell_type": "code",
   "execution_count": 78,
   "id": "1d018b45",
   "metadata": {
    "execution": {
     "iopub.execute_input": "2024-08-25T13:49:16.505948Z",
     "iopub.status.busy": "2024-08-25T13:49:16.505507Z",
     "iopub.status.idle": "2024-08-25T13:49:16.521064Z",
     "shell.execute_reply": "2024-08-25T13:49:16.519899Z"
    },
    "papermill": {
     "duration": 0.095312,
     "end_time": "2024-08-25T13:49:16.523593",
     "exception": false,
     "start_time": "2024-08-25T13:49:16.428281",
     "status": "completed"
    },
    "tags": []
   },
   "outputs": [
    {
     "data": {
      "text/html": [
       "<div>\n",
       "<style scoped>\n",
       "    .dataframe tbody tr th:only-of-type {\n",
       "        vertical-align: middle;\n",
       "    }\n",
       "\n",
       "    .dataframe tbody tr th {\n",
       "        vertical-align: top;\n",
       "    }\n",
       "\n",
       "    .dataframe thead th {\n",
       "        text-align: right;\n",
       "    }\n",
       "</style>\n",
       "<table border=\"1\" class=\"dataframe\">\n",
       "  <thead>\n",
       "    <tr style=\"text-align: right;\">\n",
       "      <th></th>\n",
       "      <th>Age</th>\n",
       "      <th>Fare</th>\n",
       "      <th>Parch</th>\n",
       "      <th>Pclass</th>\n",
       "      <th>SibSp</th>\n",
       "      <th>Embarked_C</th>\n",
       "      <th>Embarked_Q</th>\n",
       "      <th>Embarked_S</th>\n",
       "      <th>Sex_female</th>\n",
       "      <th>Sex_male</th>\n",
       "    </tr>\n",
       "    <tr>\n",
       "      <th>PassengerId</th>\n",
       "      <th></th>\n",
       "      <th></th>\n",
       "      <th></th>\n",
       "      <th></th>\n",
       "      <th></th>\n",
       "      <th></th>\n",
       "      <th></th>\n",
       "      <th></th>\n",
       "      <th></th>\n",
       "      <th></th>\n",
       "    </tr>\n",
       "  </thead>\n",
       "  <tbody>\n",
       "    <tr>\n",
       "      <th>1</th>\n",
       "      <td>-0.586092</td>\n",
       "      <td>1.981015</td>\n",
       "      <td>0</td>\n",
       "      <td>3</td>\n",
       "      <td>1</td>\n",
       "      <td>0</td>\n",
       "      <td>0</td>\n",
       "      <td>1</td>\n",
       "      <td>0</td>\n",
       "      <td>1</td>\n",
       "    </tr>\n",
       "    <tr>\n",
       "      <th>2</th>\n",
       "      <td>0.659387</td>\n",
       "      <td>4.266663</td>\n",
       "      <td>0</td>\n",
       "      <td>1</td>\n",
       "      <td>1</td>\n",
       "      <td>1</td>\n",
       "      <td>0</td>\n",
       "      <td>0</td>\n",
       "      <td>1</td>\n",
       "      <td>0</td>\n",
       "    </tr>\n",
       "    <tr>\n",
       "      <th>3</th>\n",
       "      <td>-0.274722</td>\n",
       "      <td>2.070035</td>\n",
       "      <td>0</td>\n",
       "      <td>3</td>\n",
       "      <td>0</td>\n",
       "      <td>0</td>\n",
       "      <td>0</td>\n",
       "      <td>1</td>\n",
       "      <td>1</td>\n",
       "      <td>0</td>\n",
       "    </tr>\n",
       "    <tr>\n",
       "      <th>4</th>\n",
       "      <td>0.425860</td>\n",
       "      <td>3.972179</td>\n",
       "      <td>0</td>\n",
       "      <td>1</td>\n",
       "      <td>1</td>\n",
       "      <td>0</td>\n",
       "      <td>0</td>\n",
       "      <td>1</td>\n",
       "      <td>1</td>\n",
       "      <td>0</td>\n",
       "    </tr>\n",
       "    <tr>\n",
       "      <th>5</th>\n",
       "      <td>0.425860</td>\n",
       "      <td>2.085685</td>\n",
       "      <td>0</td>\n",
       "      <td>3</td>\n",
       "      <td>0</td>\n",
       "      <td>0</td>\n",
       "      <td>0</td>\n",
       "      <td>1</td>\n",
       "      <td>0</td>\n",
       "      <td>1</td>\n",
       "    </tr>\n",
       "  </tbody>\n",
       "</table>\n",
       "</div>"
      ],
      "text/plain": [
       "                  Age      Fare  Parch  Pclass  SibSp  Embarked_C  Embarked_Q  \\\n",
       "PassengerId                                                                     \n",
       "1           -0.586092  1.981015      0       3      1           0           0   \n",
       "2            0.659387  4.266663      0       1      1           1           0   \n",
       "3           -0.274722  2.070035      0       3      0           0           0   \n",
       "4            0.425860  3.972179      0       1      1           0           0   \n",
       "5            0.425860  2.085685      0       3      0           0           0   \n",
       "\n",
       "             Embarked_S  Sex_female  Sex_male  \n",
       "PassengerId                                    \n",
       "1                     1           0         1  \n",
       "2                     0           1         0  \n",
       "3                     1           1         0  \n",
       "4                     1           1         0  \n",
       "5                     1           0         1  "
      ]
     },
     "execution_count": 78,
     "metadata": {},
     "output_type": "execute_result"
    }
   ],
   "source": [
    "df.head()"
   ]
  },
  {
   "cell_type": "code",
   "execution_count": 79,
   "id": "9737efac",
   "metadata": {
    "execution": {
     "iopub.execute_input": "2024-08-25T13:49:16.703375Z",
     "iopub.status.busy": "2024-08-25T13:49:16.702905Z",
     "iopub.status.idle": "2024-08-25T13:49:16.710656Z",
     "shell.execute_reply": "2024-08-25T13:49:16.709547Z"
    },
    "papermill": {
     "duration": 0.091287,
     "end_time": "2024-08-25T13:49:16.713066",
     "exception": false,
     "start_time": "2024-08-25T13:49:16.621779",
     "status": "completed"
    },
    "tags": []
   },
   "outputs": [
    {
     "data": {
      "text/plain": [
       "(1309, 10)"
      ]
     },
     "execution_count": 79,
     "metadata": {},
     "output_type": "execute_result"
    }
   ],
   "source": [
    "df.shape"
   ]
  },
  {
   "cell_type": "code",
   "execution_count": 80,
   "id": "a7f9663b",
   "metadata": {
    "execution": {
     "iopub.execute_input": "2024-08-25T13:49:16.871423Z",
     "iopub.status.busy": "2024-08-25T13:49:16.871016Z",
     "iopub.status.idle": "2024-08-25T13:49:16.891628Z",
     "shell.execute_reply": "2024-08-25T13:49:16.890481Z"
    },
    "papermill": {
     "duration": 0.102501,
     "end_time": "2024-08-25T13:49:16.894019",
     "exception": false,
     "start_time": "2024-08-25T13:49:16.791518",
     "status": "completed"
    },
    "tags": []
   },
   "outputs": [
    {
     "data": {
      "text/html": [
       "<div>\n",
       "<style scoped>\n",
       "    .dataframe tbody tr th:only-of-type {\n",
       "        vertical-align: middle;\n",
       "    }\n",
       "\n",
       "    .dataframe tbody tr th {\n",
       "        vertical-align: top;\n",
       "    }\n",
       "\n",
       "    .dataframe thead th {\n",
       "        text-align: right;\n",
       "    }\n",
       "</style>\n",
       "<table border=\"1\" class=\"dataframe\">\n",
       "  <thead>\n",
       "    <tr style=\"text-align: right;\">\n",
       "      <th></th>\n",
       "      <th>Age</th>\n",
       "      <th>Fare</th>\n",
       "      <th>Parch</th>\n",
       "      <th>Pclass</th>\n",
       "      <th>SibSp</th>\n",
       "      <th>Survived</th>\n",
       "      <th>Embarked_C</th>\n",
       "      <th>Embarked_Q</th>\n",
       "      <th>Embarked_S</th>\n",
       "      <th>Sex_female</th>\n",
       "      <th>Sex_male</th>\n",
       "    </tr>\n",
       "    <tr>\n",
       "      <th>PassengerId</th>\n",
       "      <th></th>\n",
       "      <th></th>\n",
       "      <th></th>\n",
       "      <th></th>\n",
       "      <th></th>\n",
       "      <th></th>\n",
       "      <th></th>\n",
       "      <th></th>\n",
       "      <th></th>\n",
       "      <th></th>\n",
       "      <th></th>\n",
       "    </tr>\n",
       "  </thead>\n",
       "  <tbody>\n",
       "    <tr>\n",
       "      <th>1</th>\n",
       "      <td>22.0</td>\n",
       "      <td>1.981015</td>\n",
       "      <td>0</td>\n",
       "      <td>3</td>\n",
       "      <td>1</td>\n",
       "      <td>0</td>\n",
       "      <td>0</td>\n",
       "      <td>0</td>\n",
       "      <td>1</td>\n",
       "      <td>0</td>\n",
       "      <td>1</td>\n",
       "    </tr>\n",
       "    <tr>\n",
       "      <th>2</th>\n",
       "      <td>38.0</td>\n",
       "      <td>4.266663</td>\n",
       "      <td>0</td>\n",
       "      <td>1</td>\n",
       "      <td>1</td>\n",
       "      <td>1</td>\n",
       "      <td>1</td>\n",
       "      <td>0</td>\n",
       "      <td>0</td>\n",
       "      <td>1</td>\n",
       "      <td>0</td>\n",
       "    </tr>\n",
       "    <tr>\n",
       "      <th>3</th>\n",
       "      <td>26.0</td>\n",
       "      <td>2.070035</td>\n",
       "      <td>0</td>\n",
       "      <td>3</td>\n",
       "      <td>0</td>\n",
       "      <td>1</td>\n",
       "      <td>0</td>\n",
       "      <td>0</td>\n",
       "      <td>1</td>\n",
       "      <td>1</td>\n",
       "      <td>0</td>\n",
       "    </tr>\n",
       "    <tr>\n",
       "      <th>4</th>\n",
       "      <td>35.0</td>\n",
       "      <td>3.972179</td>\n",
       "      <td>0</td>\n",
       "      <td>1</td>\n",
       "      <td>1</td>\n",
       "      <td>1</td>\n",
       "      <td>0</td>\n",
       "      <td>0</td>\n",
       "      <td>1</td>\n",
       "      <td>1</td>\n",
       "      <td>0</td>\n",
       "    </tr>\n",
       "    <tr>\n",
       "      <th>5</th>\n",
       "      <td>35.0</td>\n",
       "      <td>2.085685</td>\n",
       "      <td>0</td>\n",
       "      <td>3</td>\n",
       "      <td>0</td>\n",
       "      <td>0</td>\n",
       "      <td>0</td>\n",
       "      <td>0</td>\n",
       "      <td>1</td>\n",
       "      <td>0</td>\n",
       "      <td>1</td>\n",
       "    </tr>\n",
       "    <tr>\n",
       "      <th>...</th>\n",
       "      <td>...</td>\n",
       "      <td>...</td>\n",
       "      <td>...</td>\n",
       "      <td>...</td>\n",
       "      <td>...</td>\n",
       "      <td>...</td>\n",
       "      <td>...</td>\n",
       "      <td>...</td>\n",
       "      <td>...</td>\n",
       "      <td>...</td>\n",
       "      <td>...</td>\n",
       "    </tr>\n",
       "    <tr>\n",
       "      <th>887</th>\n",
       "      <td>27.0</td>\n",
       "      <td>2.564957</td>\n",
       "      <td>0</td>\n",
       "      <td>2</td>\n",
       "      <td>0</td>\n",
       "      <td>0</td>\n",
       "      <td>0</td>\n",
       "      <td>0</td>\n",
       "      <td>1</td>\n",
       "      <td>0</td>\n",
       "      <td>1</td>\n",
       "    </tr>\n",
       "    <tr>\n",
       "      <th>888</th>\n",
       "      <td>19.0</td>\n",
       "      <td>3.401201</td>\n",
       "      <td>0</td>\n",
       "      <td>1</td>\n",
       "      <td>0</td>\n",
       "      <td>1</td>\n",
       "      <td>0</td>\n",
       "      <td>0</td>\n",
       "      <td>1</td>\n",
       "      <td>1</td>\n",
       "      <td>0</td>\n",
       "    </tr>\n",
       "    <tr>\n",
       "      <th>889</th>\n",
       "      <td>NaN</td>\n",
       "      <td>3.154875</td>\n",
       "      <td>2</td>\n",
       "      <td>3</td>\n",
       "      <td>1</td>\n",
       "      <td>0</td>\n",
       "      <td>0</td>\n",
       "      <td>0</td>\n",
       "      <td>1</td>\n",
       "      <td>1</td>\n",
       "      <td>0</td>\n",
       "    </tr>\n",
       "    <tr>\n",
       "      <th>890</th>\n",
       "      <td>26.0</td>\n",
       "      <td>3.401201</td>\n",
       "      <td>0</td>\n",
       "      <td>1</td>\n",
       "      <td>0</td>\n",
       "      <td>1</td>\n",
       "      <td>1</td>\n",
       "      <td>0</td>\n",
       "      <td>0</td>\n",
       "      <td>0</td>\n",
       "      <td>1</td>\n",
       "    </tr>\n",
       "    <tr>\n",
       "      <th>891</th>\n",
       "      <td>32.0</td>\n",
       "      <td>2.047706</td>\n",
       "      <td>0</td>\n",
       "      <td>3</td>\n",
       "      <td>0</td>\n",
       "      <td>0</td>\n",
       "      <td>0</td>\n",
       "      <td>1</td>\n",
       "      <td>0</td>\n",
       "      <td>0</td>\n",
       "      <td>1</td>\n",
       "    </tr>\n",
       "  </tbody>\n",
       "</table>\n",
       "<p>891 rows × 11 columns</p>\n",
       "</div>"
      ],
      "text/plain": [
       "              Age      Fare  Parch  Pclass  SibSp  Survived  Embarked_C  \\\n",
       "PassengerId                                                               \n",
       "1            22.0  1.981015      0       3      1         0           0   \n",
       "2            38.0  4.266663      0       1      1         1           1   \n",
       "3            26.0  2.070035      0       3      0         1           0   \n",
       "4            35.0  3.972179      0       1      1         1           0   \n",
       "5            35.0  2.085685      0       3      0         0           0   \n",
       "...           ...       ...    ...     ...    ...       ...         ...   \n",
       "887          27.0  2.564957      0       2      0         0           0   \n",
       "888          19.0  3.401201      0       1      0         1           0   \n",
       "889           NaN  3.154875      2       3      1         0           0   \n",
       "890          26.0  3.401201      0       1      0         1           1   \n",
       "891          32.0  2.047706      0       3      0         0           0   \n",
       "\n",
       "             Embarked_Q  Embarked_S  Sex_female  Sex_male  \n",
       "PassengerId                                                \n",
       "1                     0           1           0         1  \n",
       "2                     0           0           1         0  \n",
       "3                     0           1           1         0  \n",
       "4                     0           1           1         0  \n",
       "5                     0           1           0         1  \n",
       "...                 ...         ...         ...       ...  \n",
       "887                   0           1           0         1  \n",
       "888                   0           1           1         0  \n",
       "889                   0           1           1         0  \n",
       "890                   0           0           0         1  \n",
       "891                   1           0           0         1  \n",
       "\n",
       "[891 rows x 11 columns]"
      ]
     },
     "execution_count": 80,
     "metadata": {},
     "output_type": "execute_result"
    }
   ],
   "source": [
    "train"
   ]
  },
  {
   "cell_type": "code",
   "execution_count": 81,
   "id": "383f8cb9",
   "metadata": {
    "execution": {
     "iopub.execute_input": "2024-08-25T13:49:17.053456Z",
     "iopub.status.busy": "2024-08-25T13:49:17.052970Z",
     "iopub.status.idle": "2024-08-25T13:49:17.063777Z",
     "shell.execute_reply": "2024-08-25T13:49:17.062624Z"
    },
    "papermill": {
     "duration": 0.092278,
     "end_time": "2024-08-25T13:49:17.066420",
     "exception": false,
     "start_time": "2024-08-25T13:49:16.974142",
     "status": "completed"
    },
    "tags": []
   },
   "outputs": [],
   "source": [
    "# Assuming the DataFrame uses its index for the split\n",
    "split_index = 891\n",
    "\n",
    "# Split based on DataFrame's index\n",
    "train = pd.concat([df[df.index <= split_index],train['Survived']],axis=1)\n",
    "test = df[df.index > split_index]"
   ]
  },
  {
   "cell_type": "code",
   "execution_count": 82,
   "id": "84194650",
   "metadata": {
    "execution": {
     "iopub.execute_input": "2024-08-25T13:49:17.224658Z",
     "iopub.status.busy": "2024-08-25T13:49:17.224195Z",
     "iopub.status.idle": "2024-08-25T13:49:17.245262Z",
     "shell.execute_reply": "2024-08-25T13:49:17.244140Z"
    },
    "papermill": {
     "duration": 0.102874,
     "end_time": "2024-08-25T13:49:17.247775",
     "exception": false,
     "start_time": "2024-08-25T13:49:17.144901",
     "status": "completed"
    },
    "tags": []
   },
   "outputs": [
    {
     "data": {
      "text/html": [
       "<div>\n",
       "<style scoped>\n",
       "    .dataframe tbody tr th:only-of-type {\n",
       "        vertical-align: middle;\n",
       "    }\n",
       "\n",
       "    .dataframe tbody tr th {\n",
       "        vertical-align: top;\n",
       "    }\n",
       "\n",
       "    .dataframe thead th {\n",
       "        text-align: right;\n",
       "    }\n",
       "</style>\n",
       "<table border=\"1\" class=\"dataframe\">\n",
       "  <thead>\n",
       "    <tr style=\"text-align: right;\">\n",
       "      <th></th>\n",
       "      <th>Age</th>\n",
       "      <th>Fare</th>\n",
       "      <th>Parch</th>\n",
       "      <th>Pclass</th>\n",
       "      <th>SibSp</th>\n",
       "      <th>Embarked_C</th>\n",
       "      <th>Embarked_Q</th>\n",
       "      <th>Embarked_S</th>\n",
       "      <th>Sex_female</th>\n",
       "      <th>Sex_male</th>\n",
       "      <th>Survived</th>\n",
       "    </tr>\n",
       "    <tr>\n",
       "      <th>PassengerId</th>\n",
       "      <th></th>\n",
       "      <th></th>\n",
       "      <th></th>\n",
       "      <th></th>\n",
       "      <th></th>\n",
       "      <th></th>\n",
       "      <th></th>\n",
       "      <th></th>\n",
       "      <th></th>\n",
       "      <th></th>\n",
       "      <th></th>\n",
       "    </tr>\n",
       "  </thead>\n",
       "  <tbody>\n",
       "    <tr>\n",
       "      <th>1</th>\n",
       "      <td>-0.586092</td>\n",
       "      <td>1.981015</td>\n",
       "      <td>0</td>\n",
       "      <td>3</td>\n",
       "      <td>1</td>\n",
       "      <td>0</td>\n",
       "      <td>0</td>\n",
       "      <td>1</td>\n",
       "      <td>0</td>\n",
       "      <td>1</td>\n",
       "      <td>0</td>\n",
       "    </tr>\n",
       "    <tr>\n",
       "      <th>2</th>\n",
       "      <td>0.659387</td>\n",
       "      <td>4.266663</td>\n",
       "      <td>0</td>\n",
       "      <td>1</td>\n",
       "      <td>1</td>\n",
       "      <td>1</td>\n",
       "      <td>0</td>\n",
       "      <td>0</td>\n",
       "      <td>1</td>\n",
       "      <td>0</td>\n",
       "      <td>1</td>\n",
       "    </tr>\n",
       "    <tr>\n",
       "      <th>3</th>\n",
       "      <td>-0.274722</td>\n",
       "      <td>2.070035</td>\n",
       "      <td>0</td>\n",
       "      <td>3</td>\n",
       "      <td>0</td>\n",
       "      <td>0</td>\n",
       "      <td>0</td>\n",
       "      <td>1</td>\n",
       "      <td>1</td>\n",
       "      <td>0</td>\n",
       "      <td>1</td>\n",
       "    </tr>\n",
       "    <tr>\n",
       "      <th>4</th>\n",
       "      <td>0.425860</td>\n",
       "      <td>3.972179</td>\n",
       "      <td>0</td>\n",
       "      <td>1</td>\n",
       "      <td>1</td>\n",
       "      <td>0</td>\n",
       "      <td>0</td>\n",
       "      <td>1</td>\n",
       "      <td>1</td>\n",
       "      <td>0</td>\n",
       "      <td>1</td>\n",
       "    </tr>\n",
       "    <tr>\n",
       "      <th>5</th>\n",
       "      <td>0.425860</td>\n",
       "      <td>2.085685</td>\n",
       "      <td>0</td>\n",
       "      <td>3</td>\n",
       "      <td>0</td>\n",
       "      <td>0</td>\n",
       "      <td>0</td>\n",
       "      <td>1</td>\n",
       "      <td>0</td>\n",
       "      <td>1</td>\n",
       "      <td>0</td>\n",
       "    </tr>\n",
       "    <tr>\n",
       "      <th>...</th>\n",
       "      <td>...</td>\n",
       "      <td>...</td>\n",
       "      <td>...</td>\n",
       "      <td>...</td>\n",
       "      <td>...</td>\n",
       "      <td>...</td>\n",
       "      <td>...</td>\n",
       "      <td>...</td>\n",
       "      <td>...</td>\n",
       "      <td>...</td>\n",
       "      <td>...</td>\n",
       "    </tr>\n",
       "    <tr>\n",
       "      <th>887</th>\n",
       "      <td>-0.196880</td>\n",
       "      <td>2.564957</td>\n",
       "      <td>0</td>\n",
       "      <td>2</td>\n",
       "      <td>0</td>\n",
       "      <td>0</td>\n",
       "      <td>0</td>\n",
       "      <td>1</td>\n",
       "      <td>0</td>\n",
       "      <td>1</td>\n",
       "      <td>0</td>\n",
       "    </tr>\n",
       "    <tr>\n",
       "      <th>888</th>\n",
       "      <td>-0.819619</td>\n",
       "      <td>3.401201</td>\n",
       "      <td>0</td>\n",
       "      <td>1</td>\n",
       "      <td>0</td>\n",
       "      <td>0</td>\n",
       "      <td>0</td>\n",
       "      <td>1</td>\n",
       "      <td>1</td>\n",
       "      <td>0</td>\n",
       "      <td>1</td>\n",
       "    </tr>\n",
       "    <tr>\n",
       "      <th>889</th>\n",
       "      <td>-0.642110</td>\n",
       "      <td>3.154875</td>\n",
       "      <td>2</td>\n",
       "      <td>3</td>\n",
       "      <td>1</td>\n",
       "      <td>0</td>\n",
       "      <td>0</td>\n",
       "      <td>1</td>\n",
       "      <td>1</td>\n",
       "      <td>0</td>\n",
       "      <td>0</td>\n",
       "    </tr>\n",
       "    <tr>\n",
       "      <th>890</th>\n",
       "      <td>-0.274722</td>\n",
       "      <td>3.401201</td>\n",
       "      <td>0</td>\n",
       "      <td>1</td>\n",
       "      <td>0</td>\n",
       "      <td>1</td>\n",
       "      <td>0</td>\n",
       "      <td>0</td>\n",
       "      <td>0</td>\n",
       "      <td>1</td>\n",
       "      <td>1</td>\n",
       "    </tr>\n",
       "    <tr>\n",
       "      <th>891</th>\n",
       "      <td>0.192332</td>\n",
       "      <td>2.047706</td>\n",
       "      <td>0</td>\n",
       "      <td>3</td>\n",
       "      <td>0</td>\n",
       "      <td>0</td>\n",
       "      <td>1</td>\n",
       "      <td>0</td>\n",
       "      <td>0</td>\n",
       "      <td>1</td>\n",
       "      <td>0</td>\n",
       "    </tr>\n",
       "  </tbody>\n",
       "</table>\n",
       "<p>891 rows × 11 columns</p>\n",
       "</div>"
      ],
      "text/plain": [
       "                  Age      Fare  Parch  Pclass  SibSp  Embarked_C  Embarked_Q  \\\n",
       "PassengerId                                                                     \n",
       "1           -0.586092  1.981015      0       3      1           0           0   \n",
       "2            0.659387  4.266663      0       1      1           1           0   \n",
       "3           -0.274722  2.070035      0       3      0           0           0   \n",
       "4            0.425860  3.972179      0       1      1           0           0   \n",
       "5            0.425860  2.085685      0       3      0           0           0   \n",
       "...               ...       ...    ...     ...    ...         ...         ...   \n",
       "887         -0.196880  2.564957      0       2      0           0           0   \n",
       "888         -0.819619  3.401201      0       1      0           0           0   \n",
       "889         -0.642110  3.154875      2       3      1           0           0   \n",
       "890         -0.274722  3.401201      0       1      0           1           0   \n",
       "891          0.192332  2.047706      0       3      0           0           1   \n",
       "\n",
       "             Embarked_S  Sex_female  Sex_male  Survived  \n",
       "PassengerId                                              \n",
       "1                     1           0         1         0  \n",
       "2                     0           1         0         1  \n",
       "3                     1           1         0         1  \n",
       "4                     1           1         0         1  \n",
       "5                     1           0         1         0  \n",
       "...                 ...         ...       ...       ...  \n",
       "887                   1           0         1         0  \n",
       "888                   1           1         0         1  \n",
       "889                   1           1         0         0  \n",
       "890                   0           0         1         1  \n",
       "891                   0           0         1         0  \n",
       "\n",
       "[891 rows x 11 columns]"
      ]
     },
     "execution_count": 82,
     "metadata": {},
     "output_type": "execute_result"
    }
   ],
   "source": [
    "train"
   ]
  },
  {
   "cell_type": "markdown",
   "id": "ec9ce3d2",
   "metadata": {
    "papermill": {
     "duration": 0.079546,
     "end_time": "2024-08-25T13:49:17.407168",
     "exception": false,
     "start_time": "2024-08-25T13:49:17.327622",
     "status": "completed"
    },
    "tags": []
   },
   "source": [
    "# Survived Prediction"
   ]
  },
  {
   "cell_type": "code",
   "execution_count": 83,
   "id": "8967cfa1",
   "metadata": {
    "execution": {
     "iopub.execute_input": "2024-08-25T13:49:17.562899Z",
     "iopub.status.busy": "2024-08-25T13:49:17.561936Z",
     "iopub.status.idle": "2024-08-25T13:49:17.569540Z",
     "shell.execute_reply": "2024-08-25T13:49:17.568067Z"
    },
    "papermill": {
     "duration": 0.088108,
     "end_time": "2024-08-25T13:49:17.572217",
     "exception": false,
     "start_time": "2024-08-25T13:49:17.484109",
     "status": "completed"
    },
    "tags": []
   },
   "outputs": [],
   "source": [
    "X_train=train.drop(\"Survived\",axis=1)\n",
    "y_train=train['Survived']\n",
    "X_test=test"
   ]
  },
  {
   "cell_type": "code",
   "execution_count": 84,
   "id": "d2bd4c3f",
   "metadata": {
    "execution": {
     "iopub.execute_input": "2024-08-25T13:49:17.732660Z",
     "iopub.status.busy": "2024-08-25T13:49:17.732225Z",
     "iopub.status.idle": "2024-08-25T13:49:17.747056Z",
     "shell.execute_reply": "2024-08-25T13:49:17.745576Z"
    },
    "papermill": {
     "duration": 0.09858,
     "end_time": "2024-08-25T13:49:17.750297",
     "exception": false,
     "start_time": "2024-08-25T13:49:17.651717",
     "status": "completed"
    },
    "tags": []
   },
   "outputs": [],
   "source": [
    "from sklearn.metrics import accuracy_score\n",
    "from sklearn.linear_model import LogisticRegression, SGDClassifier\n",
    "from sklearn.tree import DecisionTreeClassifier\n",
    "from sklearn.ensemble import RandomForestClassifier, GradientBoostingClassifier\n",
    "from sklearn.neighbors import KNeighborsClassifier\n",
    "from sklearn.svm import SVC\n",
    "from sklearn.model_selection import GridSearchCV\n",
    "from sklearn.neural_network import MLPClassifier"
   ]
  },
  {
   "cell_type": "code",
   "execution_count": 85,
   "id": "d835f7ba",
   "metadata": {
    "execution": {
     "iopub.execute_input": "2024-08-25T13:49:17.911110Z",
     "iopub.status.busy": "2024-08-25T13:49:17.910659Z",
     "iopub.status.idle": "2024-08-25T13:49:17.919062Z",
     "shell.execute_reply": "2024-08-25T13:49:17.917832Z"
    },
    "papermill": {
     "duration": 0.090871,
     "end_time": "2024-08-25T13:49:17.921530",
     "exception": false,
     "start_time": "2024-08-25T13:49:17.830659",
     "status": "completed"
    },
    "tags": []
   },
   "outputs": [],
   "source": [
    "# param_grids = {\n",
    "#     LogisticRegression(): {\n",
    "#         'C': [0.01, 0.1, 1, 10],\n",
    "#         'penalty': ['l2'],\n",
    "#         'solver': ['lbfgs', 'liblinear'],\n",
    "#         'class_weight': ['balanced', None]\n",
    "#     },\n",
    "    \n",
    "#     SGDClassifier(): {\n",
    "#         'alpha': [0.0001, 0.001, 0.01],\n",
    "#         'learning_rate': ['constant', 'adaptive'],\n",
    "#         'class_weight': ['balanced', None],\n",
    "#         'eta0': [0.01, 0.1, 1]\n",
    "#     },\n",
    "    \n",
    "#     DecisionTreeClassifier(): {\n",
    "#         'max_depth': [None, 10, 20],\n",
    "#         'min_samples_split': [2, 5, 10],\n",
    "#         'class_weight': ['balanced', None]\n",
    "#     },\n",
    "    \n",
    "#     RandomForestClassifier(): {\n",
    "#         'n_estimators': [50, 100, 200],\n",
    "#         'max_depth': [None, 10, 20],\n",
    "#         'min_samples_split': [2, 5, 10],\n",
    "#         'class_weight': ['balanced', 'balanced_subsample', None]\n",
    "#     },\n",
    "    \n",
    "#     GradientBoostingClassifier(): {\n",
    "#         'n_estimators': [50, 100, 200],\n",
    "#         'max_depth': [3, 5, 7],\n",
    "#         'learning_rate': [0.01, 0.1, 0.2]\n",
    "#         # GradientBoostingClassifier does not directly support `class_weight`, but sample weighting can be applied manually.\n",
    "#     },\n",
    "    \n",
    "#     SVC(): {\n",
    "#         'C': [0.01, 0.1, 1, 10],\n",
    "#         'kernel': ['linear', 'rbf'],\n",
    "#         'gamma': ['scale', 'auto'],  # Only used for 'rbf' kernel\n",
    "#         'class_weight': ['balanced', None]\n",
    "#     },\n",
    "    \n",
    "#     KNeighborsClassifier(): {\n",
    "#         'n_neighbors': [3, 5, 7, 9],\n",
    "#         'weights': ['uniform', 'distance']\n",
    "#         # KNeighborsClassifier doesn’t directly support `class_weight`, but you can modify how neighbors are weighted.\n",
    "#     }\n",
    "# }\n",
    "\n",
    "\n",
    "# # Initialize grid search for each model\n",
    "# for model, param_grid in param_grids.items():\n",
    "#     grid_search = GridSearchCV(model, param_grid, cv=5, scoring='accuracy')\n",
    "#     grid_search.fit(X_train, y_train)\n",
    "    \n",
    "#     # Get the best model and parameters\n",
    "#     best_model = grid_search.best_estimator_\n",
    "#     best_params = grid_search.best_params_\n",
    "\n",
    "#     # Predictions\n",
    "#     y_train_pred = best_model.predict(X_train)\n",
    "    \n",
    "#     # Calculate Accuracy\n",
    "#     acc = accuracy_score(y_train, y_train_pred)\n",
    "    \n",
    "#     print(f'{model.__class__.__name__} Train Accuracy: {acc:.2f}')\n",
    "#     print(f'Best Parameters: {best_params}\\n')\n",
    "    \n",
    "#     -------------------------------------------------------------\n",
    "    \n",
    "#     LogisticRegression Train Accuracy: 0.80\n",
    "# Best Parameters: {'C': 1, 'class_weight': None, 'penalty': 'l2', 'solver': 'liblinear'}\n",
    "\n",
    "# SGDClassifier Train Accuracy: 0.79\n",
    "# Best Parameters: {'alpha': 0.01, 'class_weight': None, 'eta0': 0.01, 'learning_rate': 'constant'}\n",
    "\n",
    "# DecisionTreeClassifier Train Accuracy: 0.90\n",
    "# Best Parameters: {'class_weight': None, 'max_depth': 10, 'min_samples_split': 10}\n",
    "\n",
    "# RandomForestClassifier Train Accuracy: 0.90\n",
    "# Best Parameters: {'class_weight': None, 'max_depth': None, 'min_samples_split': 10, 'n_estimators': 50}\n",
    "\n",
    "# GradientBoostingClassifier Train Accuracy: 0.92\n",
    "# Best Parameters: {'learning_rate': 0.2, 'max_depth': 3, 'n_estimators': 100}\n",
    "\n",
    "# SVC Train Accuracy: 0.84\n",
    "# Best Parameters: {'C': 10, 'class_weight': None, 'gamma': 'scale', 'kernel': 'rbf'}\n",
    "\n",
    "# KNeighborsClassifier Train Accuracy: 0.86\n",
    "# Best Parameters: {'n_neighbors': 5, 'weights': 'uniform'}"
   ]
  },
  {
   "cell_type": "code",
   "execution_count": 86,
   "id": "34efe4f7",
   "metadata": {
    "execution": {
     "iopub.execute_input": "2024-08-25T13:49:18.078632Z",
     "iopub.status.busy": "2024-08-25T13:49:18.078206Z",
     "iopub.status.idle": "2024-08-25T13:49:41.623611Z",
     "shell.execute_reply": "2024-08-25T13:49:41.622417Z"
    },
    "papermill": {
     "duration": 23.62632,
     "end_time": "2024-08-25T13:49:41.626367",
     "exception": false,
     "start_time": "2024-08-25T13:49:18.000047",
     "status": "completed"
    },
    "tags": []
   },
   "outputs": [
    {
     "name": "stdout",
     "output_type": "stream",
     "text": [
      "Epoch 1/30\n",
      "356/356 [==============================] - 2s 3ms/step - loss: 0.5142 - accuracy: 0.7584 - val_loss: 0.4062 - val_accuracy: 0.8380\n",
      "Epoch 2/30\n",
      "356/356 [==============================] - 1s 3ms/step - loss: 0.4478 - accuracy: 0.8006 - val_loss: 0.3714 - val_accuracy: 0.8324\n",
      "Epoch 3/30\n",
      "356/356 [==============================] - 1s 2ms/step - loss: 0.4368 - accuracy: 0.8132 - val_loss: 0.3587 - val_accuracy: 0.8547\n",
      "Epoch 4/30\n",
      "356/356 [==============================] - 1s 2ms/step - loss: 0.4277 - accuracy: 0.8146 - val_loss: 0.3543 - val_accuracy: 0.8492\n",
      "Epoch 5/30\n",
      "356/356 [==============================] - 1s 2ms/step - loss: 0.4187 - accuracy: 0.8188 - val_loss: 0.3597 - val_accuracy: 0.8771\n",
      "Epoch 6/30\n",
      "356/356 [==============================] - 1s 2ms/step - loss: 0.4152 - accuracy: 0.8244 - val_loss: 0.3513 - val_accuracy: 0.8715\n",
      "Epoch 7/30\n",
      "356/356 [==============================] - 1s 2ms/step - loss: 0.4130 - accuracy: 0.8301 - val_loss: 0.3497 - val_accuracy: 0.8771\n",
      "Epoch 8/30\n",
      "356/356 [==============================] - 1s 2ms/step - loss: 0.4108 - accuracy: 0.8258 - val_loss: 0.3520 - val_accuracy: 0.8492\n",
      "Epoch 9/30\n",
      "356/356 [==============================] - 1s 2ms/step - loss: 0.4088 - accuracy: 0.8244 - val_loss: 0.3514 - val_accuracy: 0.8715\n",
      "Epoch 10/30\n",
      "356/356 [==============================] - 1s 2ms/step - loss: 0.4033 - accuracy: 0.8216 - val_loss: 0.3551 - val_accuracy: 0.8603\n",
      "Epoch 11/30\n",
      "356/356 [==============================] - 1s 2ms/step - loss: 0.3995 - accuracy: 0.8315 - val_loss: 0.3469 - val_accuracy: 0.8547\n",
      "Epoch 12/30\n",
      "356/356 [==============================] - 1s 2ms/step - loss: 0.3990 - accuracy: 0.8343 - val_loss: 0.3493 - val_accuracy: 0.8827\n",
      "Epoch 13/30\n",
      "356/356 [==============================] - 1s 2ms/step - loss: 0.3961 - accuracy: 0.8399 - val_loss: 0.3404 - val_accuracy: 0.8659\n",
      "Epoch 14/30\n",
      "356/356 [==============================] - 1s 2ms/step - loss: 0.3950 - accuracy: 0.8315 - val_loss: 0.3368 - val_accuracy: 0.8715\n",
      "Epoch 15/30\n",
      "356/356 [==============================] - 1s 2ms/step - loss: 0.3922 - accuracy: 0.8413 - val_loss: 0.3375 - val_accuracy: 0.8715\n",
      "Epoch 16/30\n",
      "356/356 [==============================] - 1s 2ms/step - loss: 0.3897 - accuracy: 0.8329 - val_loss: 0.3373 - val_accuracy: 0.8883\n",
      "Epoch 17/30\n",
      "356/356 [==============================] - 1s 2ms/step - loss: 0.3852 - accuracy: 0.8497 - val_loss: 0.3481 - val_accuracy: 0.8547\n",
      "Epoch 18/30\n",
      "356/356 [==============================] - 1s 2ms/step - loss: 0.3856 - accuracy: 0.8399 - val_loss: 0.3381 - val_accuracy: 0.8715\n",
      "Epoch 19/30\n",
      "356/356 [==============================] - 1s 2ms/step - loss: 0.3850 - accuracy: 0.8399 - val_loss: 0.3470 - val_accuracy: 0.8715\n",
      "Epoch 20/30\n",
      "356/356 [==============================] - 1s 2ms/step - loss: 0.3793 - accuracy: 0.8385 - val_loss: 0.3399 - val_accuracy: 0.8771\n",
      "Epoch 21/30\n",
      "356/356 [==============================] - 1s 2ms/step - loss: 0.3820 - accuracy: 0.8399 - val_loss: 0.3436 - val_accuracy: 0.8715\n",
      "Epoch 22/30\n",
      "356/356 [==============================] - 1s 2ms/step - loss: 0.3755 - accuracy: 0.8483 - val_loss: 0.3289 - val_accuracy: 0.8827\n",
      "Epoch 23/30\n",
      "356/356 [==============================] - 1s 2ms/step - loss: 0.3774 - accuracy: 0.8525 - val_loss: 0.3365 - val_accuracy: 0.8603\n",
      "Epoch 24/30\n",
      "356/356 [==============================] - 1s 2ms/step - loss: 0.3745 - accuracy: 0.8413 - val_loss: 0.3338 - val_accuracy: 0.8715\n",
      "Epoch 25/30\n",
      "356/356 [==============================] - 1s 2ms/step - loss: 0.3695 - accuracy: 0.8441 - val_loss: 0.3432 - val_accuracy: 0.8659\n",
      "Epoch 26/30\n",
      "356/356 [==============================] - 1s 2ms/step - loss: 0.3704 - accuracy: 0.8511 - val_loss: 0.3454 - val_accuracy: 0.8715\n",
      "Epoch 27/30\n",
      "356/356 [==============================] - 1s 2ms/step - loss: 0.3665 - accuracy: 0.8539 - val_loss: 0.3264 - val_accuracy: 0.8771\n",
      "Epoch 28/30\n",
      "356/356 [==============================] - 1s 2ms/step - loss: 0.3613 - accuracy: 0.8525 - val_loss: 0.3376 - val_accuracy: 0.8715\n",
      "Epoch 29/30\n",
      "356/356 [==============================] - 1s 2ms/step - loss: 0.3608 - accuracy: 0.8539 - val_loss: 0.3250 - val_accuracy: 0.8827\n",
      "Epoch 30/30\n",
      "356/356 [==============================] - 1s 2ms/step - loss: 0.3610 - accuracy: 0.8483 - val_loss: 0.3466 - val_accuracy: 0.8715\n"
     ]
    }
   ],
   "source": [
    "# Standardize the data\n",
    "scaler = StandardScaler()\n",
    "X_train_scaled = scaler.fit_transform(X_train)\n",
    "X_test_scaled = scaler.transform(X_test)\n",
    "\n",
    "# Define the model\n",
    "model = Sequential([\n",
    "    Dense(64, activation='relu', input_shape=(X_train_scaled.shape[1],)),\n",
    "    Dense(32, activation='relu'),\n",
    "    Dense(1, activation='sigmoid')  # Output layer for regression\n",
    "])\n",
    "\n",
    "# Compile the model with MAE loss\n",
    "model.compile(optimizer='adam', loss='binary_crossentropy', metrics=['accuracy'])\n",
    "\n",
    "# Train the model\n",
    "history =model.fit(X_train_scaled, y_train, epochs=30, batch_size=2, validation_split=0.2)"
   ]
  },
  {
   "cell_type": "code",
   "execution_count": 87,
   "id": "08b160ab",
   "metadata": {
    "execution": {
     "iopub.execute_input": "2024-08-25T13:49:41.862651Z",
     "iopub.status.busy": "2024-08-25T13:49:41.861574Z",
     "iopub.status.idle": "2024-08-25T13:49:42.045028Z",
     "shell.execute_reply": "2024-08-25T13:49:42.043478Z"
    },
    "papermill": {
     "duration": 0.305264,
     "end_time": "2024-08-25T13:49:42.047729",
     "exception": false,
     "start_time": "2024-08-25T13:49:41.742465",
     "status": "completed"
    },
    "tags": []
   },
   "outputs": [],
   "source": [
    "classifier=GradientBoostingClassifier(learning_rate= 0.2, max_depth= 3, n_estimators= 100)\n",
    "classifier.fit(X_train,y_train)\n",
    "y_test=classifier.predict(X_test)"
   ]
  },
  {
   "cell_type": "code",
   "execution_count": 88,
   "id": "317f3d42",
   "metadata": {
    "execution": {
     "iopub.execute_input": "2024-08-25T13:49:42.286601Z",
     "iopub.status.busy": "2024-08-25T13:49:42.286176Z",
     "iopub.status.idle": "2024-08-25T13:49:42.296471Z",
     "shell.execute_reply": "2024-08-25T13:49:42.295409Z"
    },
    "papermill": {
     "duration": 0.132873,
     "end_time": "2024-08-25T13:49:42.299040",
     "exception": false,
     "start_time": "2024-08-25T13:49:42.166167",
     "status": "completed"
    },
    "tags": []
   },
   "outputs": [],
   "source": [
    "submission = pd.DataFrame({\n",
    "    'PassengerId': test.index,\n",
    "    'Survived': y_test \n",
    "})\n",
    "submission.to_csv('submission.csv', index=False)"
   ]
  },
  {
   "cell_type": "code",
   "execution_count": null,
   "id": "64b9d773",
   "metadata": {
    "papermill": {
     "duration": 0.180443,
     "end_time": "2024-08-25T13:49:42.596291",
     "exception": false,
     "start_time": "2024-08-25T13:49:42.415848",
     "status": "completed"
    },
    "tags": []
   },
   "outputs": [],
   "source": []
  }
 ],
 "metadata": {
  "kaggle": {
   "accelerator": "none",
   "dataSources": [
    {
     "databundleVersionId": 26502,
     "sourceId": 3136,
     "sourceType": "competition"
    }
   ],
   "dockerImageVersionId": 30635,
   "isGpuEnabled": false,
   "isInternetEnabled": true,
   "language": "python",
   "sourceType": "notebook"
  },
  "kernelspec": {
   "display_name": "Python 3",
   "language": "python",
   "name": "python3"
  },
  "language_info": {
   "codemirror_mode": {
    "name": "ipython",
    "version": 3
   },
   "file_extension": ".py",
   "mimetype": "text/x-python",
   "name": "python",
   "nbconvert_exporter": "python",
   "pygments_lexer": "ipython3",
   "version": "3.10.12"
  },
  "papermill": {
   "default_parameters": {},
   "duration": 84.795341,
   "end_time": "2024-08-25T13:49:44.440236",
   "environment_variables": {},
   "exception": null,
   "input_path": "__notebook__.ipynb",
   "output_path": "__notebook__.ipynb",
   "parameters": {},
   "start_time": "2024-08-25T13:48:19.644895",
   "version": "2.4.0"
  }
 },
 "nbformat": 4,
 "nbformat_minor": 5
}
